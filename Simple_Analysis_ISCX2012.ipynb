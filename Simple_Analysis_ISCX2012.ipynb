{
 "cells": [
  {
   "cell_type": "code",
   "execution_count": 1,
   "metadata": {},
   "outputs": [],
   "source": [
    "#from Utils import PklsFolder\n",
    "import pandas as pd\n",
    "from pathlib import Path\n",
    "from tqdm import tqdm\n",
    "from scapy.all import *\n",
    "import numpy as np\n",
    "\n",
    "import os\n",
    "import glob\n",
    "import pickle\n",
    "import torch\n",
    "from torch.utils.data import Dataset, DataLoader"
   ]
  },
  {
   "cell_type": "code",
   "execution_count": 2,
   "metadata": {},
   "outputs": [],
   "source": [
    "def has_file_allowed_extension(filename, extensions):\n",
    "    return filename.lower().endswith(extensions)\n",
    "\n",
    "def make_dataset(directory, class_to_idx, extensions='.pkl'):\n",
    "    instances = []\n",
    "    directory = os.path.expanduser(directory)\n",
    "    def is_valid_file(x):\n",
    "        return has_file_allowed_extension(x, extensions)\n",
    "    for target_class in sorted(class_to_idx.keys()):\n",
    "        class_index = class_to_idx[target_class]\n",
    "        target_dir = os.path.join(directory, target_class)\n",
    "        if not os.path.isdir(target_dir):\n",
    "            continue\n",
    "        for root, _, fnames in sorted(os.walk(target_dir, followlinks=True)):\n",
    "            for fname in sorted(fnames):\n",
    "                path = os.path.join(root, fname)\n",
    "                if is_valid_file(path):\n",
    "                    item = path, class_index\n",
    "                    instances.append(item)\n",
    "    return instances\n",
    "\n",
    "class PklsFolder(Dataset):\n",
    "    def __init__(self, root_dir):\n",
    "        classes, class_to_idx = self._find_classes(root_dir)\n",
    "        samples = make_dataset(root_dir, class_to_idx)\n",
    "        self.classes = classes\n",
    "        self.class_to_idx = class_to_idx\n",
    "        self.samples = samples\n",
    "        self.targets = [s[1] for s in samples]\n",
    "\n",
    "    def _find_classes(self, dir):\n",
    "        classes = [d.name for d in os.scandir(dir) if d.is_dir()]\n",
    "        classes.sort(key = lambda x : int(x))\n",
    "        class_to_idx = {cls_name: i for i, cls_name in enumerate(classes)}\n",
    "        return classes, class_to_idx\n",
    "\n",
    "    def __getitem__(self, index):\n",
    "        path, target = self.samples[index]\n",
    "        with open(path, 'rb') as f:\n",
    "            sample = pickle.load(f)\n",
    "        \"\"\"\n",
    "        #flow = np.zeros([128, 1500])\n",
    "        flow = np.zeros([80,350])\n",
    "        #for i in range(len(sample)):\n",
    "        #for i in range(min(128,len(sample))):\n",
    "        for i in range(min(80,len(sample))):\n",
    "            #flow[i, :len(sample[i])] = np.frombuffer(sample[i][:1500], dtype=np.uint8)\n",
    "            flow[i, :len(sample[i])] = np.frombuffer(sample[i][:350], dtype=np.uint8)\n",
    "            #randomize MAC,IP addresses\n",
    "            flow[i, 0:12] = np.random.randint(256, size = 12, dtype = np.uint8)\n",
    "            flow[i, 26:34] = np.random.randint(256, size = 8, dtype = np.uint8)\n",
    "        \n",
    "        if target > 0:\n",
    "            target = 1\n",
    "        \"\"\"\n",
    "        return sample, target\n",
    "\n",
    "    def __len__(self):\n",
    "        return len(self.samples)\n",
    "    \n",
    "    def data_cnt_per_class(self):\n",
    "        class_cnt = {label : 0 for label in self.classes}\n",
    "        for i in range(len(self.targets)):\n",
    "            class_cnt[str(self.targets[i])] += 1\n",
    "        return class_cnt"
   ]
  },
  {
   "cell_type": "code",
   "execution_count": 3,
   "metadata": {},
   "outputs": [],
   "source": [
    "pkls_dir = '../../pkls'\n",
    "flow_dataset = PklsFolder(pkls_dir)"
   ]
  },
  {
   "cell_type": "code",
   "execution_count": 4,
   "metadata": {},
   "outputs": [],
   "source": [
    "null_list = np.load('./ISCX2012/ISCX2012_null_index.npy')"
   ]
  },
  {
   "cell_type": "code",
   "execution_count": 5,
   "metadata": {},
   "outputs": [],
   "source": [
    "null_class_list = []\n",
    "\n",
    "for i in null_list:\n",
    "    flow, label = flow_dataset[i]\n",
    "    null_class_list.append(label)"
   ]
  },
  {
   "cell_type": "code",
   "execution_count": 6,
   "metadata": {},
   "outputs": [],
   "source": [
    "null_class = {}\n",
    "for label, cnt in pd.Series(null_class_list).value_counts().items():\n",
    "    null_class[label] = cnt"
   ]
  },
  {
   "cell_type": "code",
   "execution_count": 7,
   "metadata": {},
   "outputs": [],
   "source": [
    "flow_cnt = flow_dataset.data_cnt_per_class()\n",
    "\n",
    "for label, cnt in null_class.items() :\n",
    "    flow_cnt[str(label)] -= cnt\n",
    "\n",
    "mal_cnt = 0\n",
    "for i in [2,3,4,6]:\n",
    "    mal_cnt += flow_cnt[str(i)]"
   ]
  },
  {
   "cell_type": "code",
   "execution_count": 8,
   "metadata": {},
   "outputs": [
    {
     "name": "stdout",
     "output_type": "stream",
     "text": [
      "Benign flow count : 2769358\n"
     ]
    }
   ],
   "source": [
    "print(f'Benign flow count : {flow_cnt[str(0)]}')"
   ]
  },
  {
   "cell_type": "code",
   "execution_count": 9,
   "metadata": {},
   "outputs": [
    {
     "name": "stdout",
     "output_type": "stream",
     "text": [
      "Malicious flow count : 57847\n"
     ]
    }
   ],
   "source": [
    "print(f'Malicious flow count : {mal_cnt}')"
   ]
  },
  {
   "cell_type": "code",
   "execution_count": 10,
   "metadata": {},
   "outputs": [
    {
     "data": {
      "text/plain": [
       "{'0': 2769358, '1': 2091, '2': 9920, '3': 2768, '4': 37303, '5': 12, '6': 7856}"
      ]
     },
     "execution_count": 10,
     "metadata": {},
     "output_type": "execute_result"
    }
   ],
   "source": [
    "flow_cnt"
   ]
  },
  {
   "cell_type": "code",
   "execution_count": 11,
   "metadata": {},
   "outputs": [
    {
     "data": {
      "text/plain": [
       "{'0': 2913224,\n",
       " '1': 2091,\n",
       " '2': 10488,\n",
       " '3': 3209,\n",
       " '4': 37308,\n",
       " '5': 12,\n",
       " '6': 7864}"
      ]
     },
     "execution_count": 11,
     "metadata": {},
     "output_type": "execute_result"
    }
   ],
   "source": [
    "flow_dataset.data_cnt_per_class()"
   ]
  },
  {
   "cell_type": "code",
   "execution_count": 30,
   "metadata": {},
   "outputs": [
    {
     "name": "stderr",
     "output_type": "stream",
     "text": [
      "100%|██████████| 2974196/2974196 [32:06<00:00, 1543.72it/s] \n"
     ]
    }
   ],
   "source": [
    "ben_5tup = {'Source IP' : [], 'Source Port' : [], 'Destination IP' : [], 'Destination Port' : [], 'Protocol' : []}\n",
    "mal_5tup = {'Source IP' : [], 'Source Port' : [], 'Destination IP' : [], 'Destination Port' : [], 'Protocol' : []}\n",
    "\n",
    "\n",
    "for i in tqdm(range(len(flow_dataset))):\n",
    "    flow, label = flow_dataset[i]\n",
    "    \n",
    "    if i in null_list:\n",
    "        continue\n",
    "        \n",
    "    elif label == 0:\n",
    "        pck = Ether(flow[0])\n",
    "        ben_5tup['Source IP'].append(pck['IP'].src)\n",
    "        ben_5tup['Source Port'].append(pck.sport)\n",
    "        ben_5tup['Destination IP'].append(pck['IP'].dst)\n",
    "        ben_5tup['Destination Port'].append(pck.dport)\n",
    "        ben_5tup['Protocol'].append(str(pck.layers()[2]).split('.')[-1][:3])\n",
    "            \n",
    "    elif label in [2,3,4,6]:\n",
    "        pck = Ether(flow[0])\n",
    "        mal_5tup['Source IP'].append(pck['IP'].src)\n",
    "        mal_5tup['Source Port'].append(pck.sport)\n",
    "        mal_5tup['Destination IP'].append(pck['IP'].dst)\n",
    "        mal_5tup['Destination Port'].append(pck.dport)\n",
    "        mal_5tup['Protocol'].append(str(pck.layers()[2]).split('.')[-1][:3])"
   ]
  },
  {
   "cell_type": "code",
   "execution_count": 31,
   "metadata": {},
   "outputs": [
    {
     "data": {
      "text/html": [
       "<div>\n",
       "<style scoped>\n",
       "    .dataframe tbody tr th:only-of-type {\n",
       "        vertical-align: middle;\n",
       "    }\n",
       "\n",
       "    .dataframe tbody tr th {\n",
       "        vertical-align: top;\n",
       "    }\n",
       "\n",
       "    .dataframe thead th {\n",
       "        text-align: right;\n",
       "    }\n",
       "</style>\n",
       "<table border=\"1\" class=\"dataframe\">\n",
       "  <thead>\n",
       "    <tr style=\"text-align: right;\">\n",
       "      <th></th>\n",
       "      <th>Source IP</th>\n",
       "      <th>Count</th>\n",
       "      <th>Percentage</th>\n",
       "    </tr>\n",
       "  </thead>\n",
       "  <tbody>\n",
       "    <tr>\n",
       "      <th>0</th>\n",
       "      <td>192.168.5.122</td>\n",
       "      <td>411052</td>\n",
       "      <td>14.84</td>\n",
       "    </tr>\n",
       "    <tr>\n",
       "      <th>1</th>\n",
       "      <td>192.168.2.107</td>\n",
       "      <td>312492</td>\n",
       "      <td>11.28</td>\n",
       "    </tr>\n",
       "    <tr>\n",
       "      <th>2</th>\n",
       "      <td>192.168.4.118</td>\n",
       "      <td>195660</td>\n",
       "      <td>7.07</td>\n",
       "    </tr>\n",
       "    <tr>\n",
       "      <th>3</th>\n",
       "      <td>192.168.1.101</td>\n",
       "      <td>156966</td>\n",
       "      <td>5.67</td>\n",
       "    </tr>\n",
       "    <tr>\n",
       "      <th>4</th>\n",
       "      <td>192.168.2.109</td>\n",
       "      <td>146001</td>\n",
       "      <td>5.27</td>\n",
       "    </tr>\n",
       "  </tbody>\n",
       "</table>\n",
       "</div>"
      ],
      "text/plain": [
       "       Source IP   Count  Percentage\n",
       "0  192.168.5.122  411052       14.84\n",
       "1  192.168.2.107  312492       11.28\n",
       "2  192.168.4.118  195660        7.07\n",
       "3  192.168.1.101  156966        5.67\n",
       "4  192.168.2.109  146001        5.27"
      ]
     },
     "metadata": {},
     "output_type": "display_data"
    },
    {
     "data": {
      "text/html": [
       "<div>\n",
       "<style scoped>\n",
       "    .dataframe tbody tr th:only-of-type {\n",
       "        vertical-align: middle;\n",
       "    }\n",
       "\n",
       "    .dataframe tbody tr th {\n",
       "        vertical-align: top;\n",
       "    }\n",
       "\n",
       "    .dataframe thead th {\n",
       "        text-align: right;\n",
       "    }\n",
       "</style>\n",
       "<table border=\"1\" class=\"dataframe\">\n",
       "  <thead>\n",
       "    <tr style=\"text-align: right;\">\n",
       "      <th></th>\n",
       "      <th>Source Port</th>\n",
       "      <th>Count</th>\n",
       "      <th>Percentage</th>\n",
       "    </tr>\n",
       "  </thead>\n",
       "  <tbody>\n",
       "    <tr>\n",
       "      <th>0</th>\n",
       "      <td>58040</td>\n",
       "      <td>77446</td>\n",
       "      <td>2.80</td>\n",
       "    </tr>\n",
       "    <tr>\n",
       "      <th>1</th>\n",
       "      <td>138</td>\n",
       "      <td>16740</td>\n",
       "      <td>0.60</td>\n",
       "    </tr>\n",
       "    <tr>\n",
       "      <th>2</th>\n",
       "      <td>137</td>\n",
       "      <td>14932</td>\n",
       "      <td>0.54</td>\n",
       "    </tr>\n",
       "    <tr>\n",
       "      <th>3</th>\n",
       "      <td>1027</td>\n",
       "      <td>2313</td>\n",
       "      <td>0.08</td>\n",
       "    </tr>\n",
       "    <tr>\n",
       "      <th>4</th>\n",
       "      <td>2580</td>\n",
       "      <td>2123</td>\n",
       "      <td>0.08</td>\n",
       "    </tr>\n",
       "  </tbody>\n",
       "</table>\n",
       "</div>"
      ],
      "text/plain": [
       "   Source Port  Count  Percentage\n",
       "0        58040  77446        2.80\n",
       "1          138  16740        0.60\n",
       "2          137  14932        0.54\n",
       "3         1027   2313        0.08\n",
       "4         2580   2123        0.08"
      ]
     },
     "metadata": {},
     "output_type": "display_data"
    },
    {
     "data": {
      "text/html": [
       "<div>\n",
       "<style scoped>\n",
       "    .dataframe tbody tr th:only-of-type {\n",
       "        vertical-align: middle;\n",
       "    }\n",
       "\n",
       "    .dataframe tbody tr th {\n",
       "        vertical-align: top;\n",
       "    }\n",
       "\n",
       "    .dataframe thead th {\n",
       "        text-align: right;\n",
       "    }\n",
       "</style>\n",
       "<table border=\"1\" class=\"dataframe\">\n",
       "  <thead>\n",
       "    <tr style=\"text-align: right;\">\n",
       "      <th></th>\n",
       "      <th>Destination IP</th>\n",
       "      <th>Count</th>\n",
       "      <th>Percentage</th>\n",
       "    </tr>\n",
       "  </thead>\n",
       "  <tbody>\n",
       "    <tr>\n",
       "      <th>0</th>\n",
       "      <td>198.164.30.2</td>\n",
       "      <td>365562</td>\n",
       "      <td>13.20</td>\n",
       "    </tr>\n",
       "    <tr>\n",
       "      <th>1</th>\n",
       "      <td>203.73.24.75</td>\n",
       "      <td>322815</td>\n",
       "      <td>11.66</td>\n",
       "    </tr>\n",
       "    <tr>\n",
       "      <th>2</th>\n",
       "      <td>125.6.164.51</td>\n",
       "      <td>191374</td>\n",
       "      <td>6.91</td>\n",
       "    </tr>\n",
       "    <tr>\n",
       "      <th>3</th>\n",
       "      <td>192.168.5.122</td>\n",
       "      <td>140838</td>\n",
       "      <td>5.09</td>\n",
       "    </tr>\n",
       "    <tr>\n",
       "      <th>4</th>\n",
       "      <td>202.210.143.140</td>\n",
       "      <td>69601</td>\n",
       "      <td>2.51</td>\n",
       "    </tr>\n",
       "  </tbody>\n",
       "</table>\n",
       "</div>"
      ],
      "text/plain": [
       "    Destination IP   Count  Percentage\n",
       "0     198.164.30.2  365562       13.20\n",
       "1     203.73.24.75  322815       11.66\n",
       "2     125.6.164.51  191374        6.91\n",
       "3    192.168.5.122  140838        5.09\n",
       "4  202.210.143.140   69601        2.51"
      ]
     },
     "metadata": {},
     "output_type": "display_data"
    },
    {
     "data": {
      "text/html": [
       "<div>\n",
       "<style scoped>\n",
       "    .dataframe tbody tr th:only-of-type {\n",
       "        vertical-align: middle;\n",
       "    }\n",
       "\n",
       "    .dataframe tbody tr th {\n",
       "        vertical-align: top;\n",
       "    }\n",
       "\n",
       "    .dataframe thead th {\n",
       "        text-align: right;\n",
       "    }\n",
       "</style>\n",
       "<table border=\"1\" class=\"dataframe\">\n",
       "  <thead>\n",
       "    <tr style=\"text-align: right;\">\n",
       "      <th></th>\n",
       "      <th>Destination Port</th>\n",
       "      <th>Count</th>\n",
       "      <th>Percentage</th>\n",
       "    </tr>\n",
       "  </thead>\n",
       "  <tbody>\n",
       "    <tr>\n",
       "      <th>0</th>\n",
       "      <td>80</td>\n",
       "      <td>2039089</td>\n",
       "      <td>73.63</td>\n",
       "    </tr>\n",
       "    <tr>\n",
       "      <th>1</th>\n",
       "      <td>53</td>\n",
       "      <td>451944</td>\n",
       "      <td>16.32</td>\n",
       "    </tr>\n",
       "    <tr>\n",
       "      <th>2</th>\n",
       "      <td>443</td>\n",
       "      <td>68739</td>\n",
       "      <td>2.48</td>\n",
       "    </tr>\n",
       "    <tr>\n",
       "      <th>3</th>\n",
       "      <td>138</td>\n",
       "      <td>16740</td>\n",
       "      <td>0.60</td>\n",
       "    </tr>\n",
       "    <tr>\n",
       "      <th>4</th>\n",
       "      <td>25</td>\n",
       "      <td>16215</td>\n",
       "      <td>0.59</td>\n",
       "    </tr>\n",
       "  </tbody>\n",
       "</table>\n",
       "</div>"
      ],
      "text/plain": [
       "   Destination Port    Count  Percentage\n",
       "0                80  2039089       73.63\n",
       "1                53   451944       16.32\n",
       "2               443    68739        2.48\n",
       "3               138    16740        0.60\n",
       "4                25    16215        0.59"
      ]
     },
     "metadata": {},
     "output_type": "display_data"
    },
    {
     "data": {
      "text/html": [
       "<div>\n",
       "<style scoped>\n",
       "    .dataframe tbody tr th:only-of-type {\n",
       "        vertical-align: middle;\n",
       "    }\n",
       "\n",
       "    .dataframe tbody tr th {\n",
       "        vertical-align: top;\n",
       "    }\n",
       "\n",
       "    .dataframe thead th {\n",
       "        text-align: right;\n",
       "    }\n",
       "</style>\n",
       "<table border=\"1\" class=\"dataframe\">\n",
       "  <thead>\n",
       "    <tr style=\"text-align: right;\">\n",
       "      <th></th>\n",
       "      <th>Protocol</th>\n",
       "      <th>Count</th>\n",
       "      <th>Percentage</th>\n",
       "    </tr>\n",
       "  </thead>\n",
       "  <tbody>\n",
       "    <tr>\n",
       "      <th>0</th>\n",
       "      <td>TCP</td>\n",
       "      <td>2207309</td>\n",
       "      <td>79.7</td>\n",
       "    </tr>\n",
       "    <tr>\n",
       "      <th>1</th>\n",
       "      <td>UDP</td>\n",
       "      <td>562049</td>\n",
       "      <td>20.3</td>\n",
       "    </tr>\n",
       "  </tbody>\n",
       "</table>\n",
       "</div>"
      ],
      "text/plain": [
       "  Protocol    Count  Percentage\n",
       "0      TCP  2207309        79.7\n",
       "1      UDP   562049        20.3"
      ]
     },
     "metadata": {},
     "output_type": "display_data"
    }
   ],
   "source": [
    "five_tup = ['Source IP', 'Source Port', 'Destination IP', 'Destination Port', 'Protocol']\n",
    "\n",
    "for field in five_tup:\n",
    "    Benign = pd.Series(ben_5tup[field]).value_counts().head(5).reset_index()\n",
    "    Benign = Benign.rename(columns = {'index' : field, 0 : 'Count'})\n",
    "    Benign['Percentage'] = Benign['Count'].map(lambda x : round(100 * x / len(ben_5tup[field]),2))\n",
    "\n",
    "    display(Benign)"
   ]
  },
  {
   "cell_type": "code",
   "execution_count": 32,
   "metadata": {},
   "outputs": [
    {
     "data": {
      "text/html": [
       "<div>\n",
       "<style scoped>\n",
       "    .dataframe tbody tr th:only-of-type {\n",
       "        vertical-align: middle;\n",
       "    }\n",
       "\n",
       "    .dataframe tbody tr th {\n",
       "        vertical-align: top;\n",
       "    }\n",
       "\n",
       "    .dataframe thead th {\n",
       "        text-align: right;\n",
       "    }\n",
       "</style>\n",
       "<table border=\"1\" class=\"dataframe\">\n",
       "  <thead>\n",
       "    <tr style=\"text-align: right;\">\n",
       "      <th></th>\n",
       "      <th>Source IP</th>\n",
       "      <th>Count</th>\n",
       "      <th>Percentage</th>\n",
       "    </tr>\n",
       "  </thead>\n",
       "  <tbody>\n",
       "    <tr>\n",
       "      <th>0</th>\n",
       "      <td>192.168.1.105</td>\n",
       "      <td>12590</td>\n",
       "      <td>21.76</td>\n",
       "    </tr>\n",
       "    <tr>\n",
       "      <th>1</th>\n",
       "      <td>192.168.2.113</td>\n",
       "      <td>11411</td>\n",
       "      <td>19.73</td>\n",
       "    </tr>\n",
       "    <tr>\n",
       "      <th>2</th>\n",
       "      <td>192.168.2.110</td>\n",
       "      <td>8438</td>\n",
       "      <td>14.59</td>\n",
       "    </tr>\n",
       "    <tr>\n",
       "      <th>3</th>\n",
       "      <td>131.202.243.90</td>\n",
       "      <td>7843</td>\n",
       "      <td>13.56</td>\n",
       "    </tr>\n",
       "    <tr>\n",
       "      <th>4</th>\n",
       "      <td>192.168.4.118</td>\n",
       "      <td>5194</td>\n",
       "      <td>8.98</td>\n",
       "    </tr>\n",
       "  </tbody>\n",
       "</table>\n",
       "</div>"
      ],
      "text/plain": [
       "        Source IP  Count  Percentage\n",
       "0   192.168.1.105  12590       21.76\n",
       "1   192.168.2.113  11411       19.73\n",
       "2   192.168.2.110   8438       14.59\n",
       "3  131.202.243.90   7843       13.56\n",
       "4   192.168.4.118   5194        8.98"
      ]
     },
     "metadata": {},
     "output_type": "display_data"
    },
    {
     "data": {
      "text/html": [
       "<div>\n",
       "<style scoped>\n",
       "    .dataframe tbody tr th:only-of-type {\n",
       "        vertical-align: middle;\n",
       "    }\n",
       "\n",
       "    .dataframe tbody tr th {\n",
       "        vertical-align: top;\n",
       "    }\n",
       "\n",
       "    .dataframe thead th {\n",
       "        text-align: right;\n",
       "    }\n",
       "</style>\n",
       "<table border=\"1\" class=\"dataframe\">\n",
       "  <thead>\n",
       "    <tr style=\"text-align: right;\">\n",
       "      <th></th>\n",
       "      <th>Source Port</th>\n",
       "      <th>Count</th>\n",
       "      <th>Percentage</th>\n",
       "    </tr>\n",
       "  </thead>\n",
       "  <tbody>\n",
       "    <tr>\n",
       "      <th>0</th>\n",
       "      <td>54806</td>\n",
       "      <td>7080</td>\n",
       "      <td>12.24</td>\n",
       "    </tr>\n",
       "    <tr>\n",
       "      <th>1</th>\n",
       "      <td>52707</td>\n",
       "      <td>1274</td>\n",
       "      <td>2.20</td>\n",
       "    </tr>\n",
       "    <tr>\n",
       "      <th>2</th>\n",
       "      <td>34431</td>\n",
       "      <td>1195</td>\n",
       "      <td>2.07</td>\n",
       "    </tr>\n",
       "    <tr>\n",
       "      <th>3</th>\n",
       "      <td>53508</td>\n",
       "      <td>703</td>\n",
       "      <td>1.22</td>\n",
       "    </tr>\n",
       "    <tr>\n",
       "      <th>4</th>\n",
       "      <td>6667</td>\n",
       "      <td>414</td>\n",
       "      <td>0.72</td>\n",
       "    </tr>\n",
       "  </tbody>\n",
       "</table>\n",
       "</div>"
      ],
      "text/plain": [
       "   Source Port  Count  Percentage\n",
       "0        54806   7080       12.24\n",
       "1        52707   1274        2.20\n",
       "2        34431   1195        2.07\n",
       "3        53508    703        1.22\n",
       "4         6667    414        0.72"
      ]
     },
     "metadata": {},
     "output_type": "display_data"
    },
    {
     "data": {
      "text/html": [
       "<div>\n",
       "<style scoped>\n",
       "    .dataframe tbody tr th:only-of-type {\n",
       "        vertical-align: middle;\n",
       "    }\n",
       "\n",
       "    .dataframe tbody tr th {\n",
       "        vertical-align: top;\n",
       "    }\n",
       "\n",
       "    .dataframe thead th {\n",
       "        text-align: right;\n",
       "    }\n",
       "</style>\n",
       "<table border=\"1\" class=\"dataframe\">\n",
       "  <thead>\n",
       "    <tr style=\"text-align: right;\">\n",
       "      <th></th>\n",
       "      <th>Destination IP</th>\n",
       "      <th>Count</th>\n",
       "      <th>Percentage</th>\n",
       "    </tr>\n",
       "  </thead>\n",
       "  <tbody>\n",
       "    <tr>\n",
       "      <th>0</th>\n",
       "      <td>192.168.5.122</td>\n",
       "      <td>46311</td>\n",
       "      <td>80.06</td>\n",
       "    </tr>\n",
       "    <tr>\n",
       "      <th>1</th>\n",
       "      <td>192.168.2.112</td>\n",
       "      <td>1179</td>\n",
       "      <td>2.04</td>\n",
       "    </tr>\n",
       "    <tr>\n",
       "      <th>2</th>\n",
       "      <td>192.168.2.113</td>\n",
       "      <td>1053</td>\n",
       "      <td>1.82</td>\n",
       "    </tr>\n",
       "    <tr>\n",
       "      <th>3</th>\n",
       "      <td>192.168.2.109</td>\n",
       "      <td>1038</td>\n",
       "      <td>1.79</td>\n",
       "    </tr>\n",
       "    <tr>\n",
       "      <th>4</th>\n",
       "      <td>192.168.2.110</td>\n",
       "      <td>1020</td>\n",
       "      <td>1.76</td>\n",
       "    </tr>\n",
       "  </tbody>\n",
       "</table>\n",
       "</div>"
      ],
      "text/plain": [
       "  Destination IP  Count  Percentage\n",
       "0  192.168.5.122  46311       80.06\n",
       "1  192.168.2.112   1179        2.04\n",
       "2  192.168.2.113   1053        1.82\n",
       "3  192.168.2.109   1038        1.79\n",
       "4  192.168.2.110   1020        1.76"
      ]
     },
     "metadata": {},
     "output_type": "display_data"
    },
    {
     "data": {
      "text/html": [
       "<div>\n",
       "<style scoped>\n",
       "    .dataframe tbody tr th:only-of-type {\n",
       "        vertical-align: middle;\n",
       "    }\n",
       "\n",
       "    .dataframe tbody tr th {\n",
       "        vertical-align: top;\n",
       "    }\n",
       "\n",
       "    .dataframe thead th {\n",
       "        text-align: right;\n",
       "    }\n",
       "</style>\n",
       "<table border=\"1\" class=\"dataframe\">\n",
       "  <thead>\n",
       "    <tr style=\"text-align: right;\">\n",
       "      <th></th>\n",
       "      <th>Destination Port</th>\n",
       "      <th>Count</th>\n",
       "      <th>Percentage</th>\n",
       "    </tr>\n",
       "  </thead>\n",
       "  <tbody>\n",
       "    <tr>\n",
       "      <th>0</th>\n",
       "      <td>80</td>\n",
       "      <td>38713</td>\n",
       "      <td>66.92</td>\n",
       "    </tr>\n",
       "    <tr>\n",
       "      <th>1</th>\n",
       "      <td>22</td>\n",
       "      <td>7958</td>\n",
       "      <td>13.76</td>\n",
       "    </tr>\n",
       "    <tr>\n",
       "      <th>2</th>\n",
       "      <td>443</td>\n",
       "      <td>229</td>\n",
       "      <td>0.40</td>\n",
       "    </tr>\n",
       "    <tr>\n",
       "      <th>3</th>\n",
       "      <td>445</td>\n",
       "      <td>168</td>\n",
       "      <td>0.29</td>\n",
       "    </tr>\n",
       "    <tr>\n",
       "      <th>4</th>\n",
       "      <td>143</td>\n",
       "      <td>103</td>\n",
       "      <td>0.18</td>\n",
       "    </tr>\n",
       "  </tbody>\n",
       "</table>\n",
       "</div>"
      ],
      "text/plain": [
       "   Destination Port  Count  Percentage\n",
       "0                80  38713       66.92\n",
       "1                22   7958       13.76\n",
       "2               443    229        0.40\n",
       "3               445    168        0.29\n",
       "4               143    103        0.18"
      ]
     },
     "metadata": {},
     "output_type": "display_data"
    },
    {
     "data": {
      "text/html": [
       "<div>\n",
       "<style scoped>\n",
       "    .dataframe tbody tr th:only-of-type {\n",
       "        vertical-align: middle;\n",
       "    }\n",
       "\n",
       "    .dataframe tbody tr th {\n",
       "        vertical-align: top;\n",
       "    }\n",
       "\n",
       "    .dataframe thead th {\n",
       "        text-align: right;\n",
       "    }\n",
       "</style>\n",
       "<table border=\"1\" class=\"dataframe\">\n",
       "  <thead>\n",
       "    <tr style=\"text-align: right;\">\n",
       "      <th></th>\n",
       "      <th>Protocol</th>\n",
       "      <th>Count</th>\n",
       "      <th>Percentage</th>\n",
       "    </tr>\n",
       "  </thead>\n",
       "  <tbody>\n",
       "    <tr>\n",
       "      <th>0</th>\n",
       "      <td>TCP</td>\n",
       "      <td>57823</td>\n",
       "      <td>99.96</td>\n",
       "    </tr>\n",
       "    <tr>\n",
       "      <th>1</th>\n",
       "      <td>UDP</td>\n",
       "      <td>24</td>\n",
       "      <td>0.04</td>\n",
       "    </tr>\n",
       "  </tbody>\n",
       "</table>\n",
       "</div>"
      ],
      "text/plain": [
       "  Protocol  Count  Percentage\n",
       "0      TCP  57823       99.96\n",
       "1      UDP     24        0.04"
      ]
     },
     "metadata": {},
     "output_type": "display_data"
    }
   ],
   "source": [
    "five_tup = ['Source IP', 'Source Port', 'Destination IP', 'Destination Port', 'Protocol']\n",
    "\n",
    "for field in five_tup:\n",
    "    Mal = pd.Series(mal_5tup[field]).value_counts().head(5).reset_index()\n",
    "    Mal = Mal.rename(columns = {'index' : field, 0 : 'Count'})\n",
    "    Mal['Percentage'] = Mal['Count'].map(lambda x : round(100 * x / len(mal_5tup[field]),2))\n",
    "\n",
    "    display(Mal)"
   ]
  },
  {
   "cell_type": "code",
   "execution_count": 33,
   "metadata": {},
   "outputs": [
    {
     "name": "stderr",
     "output_type": "stream",
     "text": [
      "100%|██████████| 2974196/2974196 [05:09<00:00, 9609.34it/s] \n"
     ]
    }
   ],
   "source": [
    "ben_flow_len = []\n",
    "mal_flow_len = []\n",
    "ben_pck_len = []\n",
    "mal_pck_len = []\n",
    "\n",
    "for i in tqdm(range(len(flow_dataset))):\n",
    "    flow, label = flow_dataset[i]\n",
    "    \n",
    "    if i in null_list:\n",
    "        continue\n",
    "    \n",
    "    elif label == 0:\n",
    "        ben_flow_len.append(len(flow))\n",
    "        \n",
    "        for b_idx in range(len(flow)):\n",
    "            ben_pck_len.append(len(flow[b_idx]))\n",
    "    elif label != 0:\n",
    "        mal_flow_len.append(len(flow))\n",
    "        \n",
    "        for m_idx in range(len(flow)):\n",
    "            mal_pck_len.append(len(flow[m_idx]))"
   ]
  },
  {
   "cell_type": "code",
   "execution_count": 34,
   "metadata": {},
   "outputs": [
    {
     "name": "stderr",
     "output_type": "stream",
     "text": [
      "100%|██████████| 2769358/2769358 [00:01<00:00, 2130314.53it/s]\n"
     ]
    }
   ],
   "source": [
    "ben_over_128 = 0\n",
    "for i in tqdm(range(len(ben_flow_len))):\n",
    "    if ben_flow_len[i] > 128:\n",
    "        ben_over_128 +=1"
   ]
  },
  {
   "cell_type": "code",
   "execution_count": 35,
   "metadata": {},
   "outputs": [
    {
     "name": "stderr",
     "output_type": "stream",
     "text": [
      "100%|██████████| 59950/59950 [00:00<00:00, 1589786.14it/s]\n"
     ]
    }
   ],
   "source": [
    "mal_over_128 = 0\n",
    "for i in tqdm(range(len(mal_flow_len))):\n",
    "    if mal_flow_len[i] > 128:\n",
    "        mal_over_128 +=1"
   ]
  },
  {
   "cell_type": "code",
   "execution_count": 36,
   "metadata": {},
   "outputs": [
    {
     "name": "stdout",
     "output_type": "stream",
     "text": [
      "Percentage of Benign Flow Length Over 128: 0.0000%\n"
     ]
    }
   ],
   "source": [
    "print(f'Percentage of Benign Flow Length Over 128: {100 *ben_over_128/len(ben_flow_len):.4f}%')"
   ]
  },
  {
   "cell_type": "code",
   "execution_count": 37,
   "metadata": {},
   "outputs": [
    {
     "name": "stdout",
     "output_type": "stream",
     "text": [
      "Percentage of Malicious Flow Length Over 128: 0.0000%\n"
     ]
    }
   ],
   "source": [
    "print(f'Percentage of Malicious Flow Length Over 128: {100 *mal_over_128/len(mal_flow_len):.4f}%')"
   ]
  },
  {
   "cell_type": "code",
   "execution_count": 38,
   "metadata": {},
   "outputs": [
    {
     "name": "stdout",
     "output_type": "stream",
     "text": [
      "Average of Benign Flow Length : 0    9.13744\n",
      "dtype: float64\n"
     ]
    }
   ],
   "source": [
    "print(f'Average of Benign Flow Length : {pd.DataFrame(ben_flow_len).mean()}')"
   ]
  },
  {
   "cell_type": "code",
   "execution_count": 39,
   "metadata": {},
   "outputs": [
    {
     "name": "stdout",
     "output_type": "stream",
     "text": [
      "Average of Malicious Flow Length : 0    52.604887\n",
      "dtype: float64\n"
     ]
    }
   ],
   "source": [
    "print(f'Average of Malicious Flow Length : {pd.DataFrame(mal_flow_len).mean()}')"
   ]
  },
  {
   "cell_type": "code",
   "execution_count": 40,
   "metadata": {},
   "outputs": [
    {
     "data": {
      "text/plain": [
       "Text(0, 0.5, 'Density')"
      ]
     },
     "execution_count": 40,
     "metadata": {},
     "output_type": "execute_result"
    },
    {
     "data": {
      "image/png": "[encoded data removed]",
      "text/plain": [
       "<Figure size 1080x360 with 1 Axes>"
      ]
     },
     "metadata": {
      "needs_background": "light"
     },
     "output_type": "display_data"
    }
   ],
   "source": [
    "import matplotlib.pyplot as plt\n",
    "\n",
    "plt.figure(figsize = (15,5))\n",
    "\n",
    "plt.hist(ben_flow_len, bins = 14, alpha = 0.5, range = (0,140), density = True, color = 'b', label = 'Benign_Flow_Length')\n",
    "plt.hist(mal_flow_len, bins = 14, alpha = 0.5, range = (0,140), density = True, color = 'r', label = 'Malicious_Flow_Length')\n",
    "plt.xticks(np.arange(0,140,10))\n",
    "\n",
    "plt.axvline(pd.DataFrame(ben_flow_len).mean().item(), color='b', linestyle='dashed', linewidth=2, label = 'Avg of Ben_Flow_Len')\n",
    "plt.axvline(pd.DataFrame(mal_flow_len).mean().item(), color='r', linestyle='dashed', linewidth=2, label = 'Avg of Mal_Flow_Len')\n",
    "\n",
    "plt.legend()\n",
    "plt.xlabel('Flow Length')\n",
    "plt.ylabel('Density')"
   ]
  },
  {
   "cell_type": "code",
   "execution_count": 41,
   "metadata": {},
   "outputs": [
    {
     "name": "stderr",
     "output_type": "stream",
     "text": [
      "100%|██████████| 25304842/25304842 [00:10<00:00, 2388475.37it/s]\n"
     ]
    }
   ],
   "source": [
    "ben_over_1000 = 0\n",
    "for i in tqdm(range(len(ben_pck_len))):\n",
    "    if ben_pck_len[i] > 1000:\n",
    "        ben_over_1000 +=1"
   ]
  },
  {
   "cell_type": "code",
   "execution_count": 42,
   "metadata": {},
   "outputs": [
    {
     "name": "stderr",
     "output_type": "stream",
     "text": [
      "100%|██████████| 3153663/3153663 [00:01<00:00, 2138620.86it/s]\n"
     ]
    }
   ],
   "source": [
    "mal_over_1000 = 0\n",
    "for i in tqdm(range(len(mal_pck_len))):\n",
    "    if mal_pck_len[i] > 1000:\n",
    "        mal_over_1000 +=1"
   ]
  },
  {
   "cell_type": "code",
   "execution_count": 43,
   "metadata": {},
   "outputs": [
    {
     "name": "stdout",
     "output_type": "stream",
     "text": [
      "Percentage of Benign Packet Length Over 1000: 0.1465%\n"
     ]
    }
   ],
   "source": [
    "print(f'Percentage of Benign Packet Length Over 1000: {100 *ben_over_1000/len(ben_pck_len):.4f}%')"
   ]
  },
  {
   "cell_type": "code",
   "execution_count": 44,
   "metadata": {},
   "outputs": [
    {
     "name": "stdout",
     "output_type": "stream",
     "text": [
      "Percentage of Malicious Packet Length Over 1000: 0.1125%\n"
     ]
    }
   ],
   "source": [
    "print(f'Percentage of Malicious Packet Length Over 1000: {100 *mal_over_1000/len(mal_pck_len):.4f}%')"
   ]
  },
  {
   "cell_type": "code",
   "execution_count": 45,
   "metadata": {},
   "outputs": [
    {
     "name": "stdout",
     "output_type": "stream",
     "text": [
      "Average of Benign Packet Length : 0    78.064581\n",
      "dtype: float64\n"
     ]
    }
   ],
   "source": [
    "print(f'Average of Benign Packet Length : {pd.DataFrame(ben_pck_len).mean()}')"
   ]
  },
  {
   "cell_type": "code",
   "execution_count": 46,
   "metadata": {},
   "outputs": [
    {
     "name": "stdout",
     "output_type": "stream",
     "text": [
      "Average of Malicious Packet Length : 0    105.42022\n",
      "dtype: float64\n"
     ]
    }
   ],
   "source": [
    "print(f'Average of Malicious Packet Length : {pd.DataFrame(mal_pck_len).mean()}')"
   ]
  },
  {
   "cell_type": "code",
   "execution_count": 47,
   "metadata": {},
   "outputs": [
    {
     "data": {
      "text/plain": [
       "Text(0, 0.5, 'Density')"
      ]
     },
     "execution_count": 47,
     "metadata": {},
     "output_type": "execute_result"
    },
    {
     "data": {
      "image/png": "[encoded data removed]",
      "text/plain": [
       "<Figure size 1080x360 with 1 Axes>"
      ]
     },
     "metadata": {
      "needs_background": "light"
     },
     "output_type": "display_data"
    }
   ],
   "source": [
    "plt.figure(figsize = (15,5))\n",
    "\n",
    "plt.hist(ben_pck_len, bins = 10, alpha = 0.5, range = (0,1000), density = True, color = 'b', label = 'Benign_Packet_Length')\n",
    "plt.hist(mal_pck_len, bins = 10, alpha = 0.5, range = (0,1000), density = True, color = 'r', label = 'Malicious_Packet_Length')\n",
    "plt.xticks(np.arange(0,1000,100))\n",
    "\n",
    "plt.axvline(pd.DataFrame(ben_pck_len).mean().item(), color='b', linestyle='dashed', linewidth=2, label = 'Avg of Ben_Pck_Len')\n",
    "plt.axvline(pd.DataFrame(mal_pck_len).mean().item(), color='r', linestyle='dashed', linewidth=2, label = 'Avg of Mal_Pck_Len')\n",
    "\n",
    "plt.legend()\n",
    "\n",
    "plt.xlabel('Packet Length')\n",
    "plt.ylabel('Density')"
   ]
  },
  {
   "cell_type": "code",
   "execution_count": null,
   "metadata": {},
   "outputs": [],
   "source": []
  }
 ],
 "metadata": {
  "kernelspec": {
   "display_name": "Python 3",
   "language": "python",
   "name": "python3"
  },
  "language_info": {
   "codemirror_mode": {
    "name": "ipython",
    "version": 3
   },
   "file_extension": ".py",
   "mimetype": "text/x-python",
   "name": "python",
   "nbconvert_exporter": "python",
   "pygments_lexer": "ipython3",
   "version": "3.7.4"
  }
 },
 "nbformat": 4,
 "nbformat_minor": 4
}
