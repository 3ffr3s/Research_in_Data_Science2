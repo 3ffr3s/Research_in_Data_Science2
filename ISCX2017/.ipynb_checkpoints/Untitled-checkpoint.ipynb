{
 "cells": [
  {
   "cell_type": "code",
   "execution_count": 1,
   "metadata": {},
   "outputs": [],
   "source": [
    "import sys\n",
    "sys.path.append('/workspace/sy/sungyun/mdpi_IDS/')\n",
    "\n",
    "from Utils import PklsFolder, make_cls_idx, split_train_val_test\n",
    "from Layers import Flow_CLF\n",
    "from tqdm import tqdm\n",
    "import numpy as np\n",
    "import torch\n",
    "import torch.nn as nn\n",
    "from torch.utils.data import Dataset, DataLoader"
   ]
  },
  {
   "cell_type": "code",
   "execution_count": 2,
   "metadata": {},
   "outputs": [],
   "source": [
    "flow_dataset = PklsFolder('../../../dataset/CICIDS2017/pkls')"
   ]
  },
  {
   "cell_type": "code",
   "execution_count": 4,
   "metadata": {},
   "outputs": [],
   "source": [
    "classes = list(range(15))\n",
    "class_idx = make_cls_idx(flow_dataset.targets,classes,'./ISCX2017_null_index.npy')"
   ]
  },
  {
   "cell_type": "code",
   "execution_count": 5,
   "metadata": {},
   "outputs": [],
   "source": [
    "labels = ['Benign','FTP-Patator', 'SSH-Patator', 'DoS slowloris','DoS Slowhttptest', 'DoS Hulk', 'DoS GoldenEye', 'Heartbleed','Infiltration', 'Web Attack – Brute Force', 'Web Attack – XSS','Web Attack – Sql Injection', 'DDoS', 'PortScan', 'Bot']"
   ]
  },
  {
   "cell_type": "code",
   "execution_count": 6,
   "metadata": {},
   "outputs": [],
   "source": [
    "train = {}\n",
    "val = {}\n",
    "test = {}\n",
    "train_val_test = {}\n",
    "\n",
    "for label in labels:\n",
    "    train[label] = []\n",
    "    val[label] = []\n",
    "    test[label] = []\n",
    "    train_val_test[label] = [0,0,0]"
   ]
  },
  {
   "cell_type": "code",
   "execution_count": 7,
   "metadata": {},
   "outputs": [],
   "source": [
    "train_val_test['Benign'] = [70000, 30000, 30000]\n",
    "train_val_test['FTP-Patator'] = [5000,1000,1042]\n",
    "train_val_test['SSH-Patator'] = [4000,1000,958]\n",
    "train_val_test['DoS slowloris'] = [4000,1000,1000]  \n",
    "train_val_test['DoS Slowhttptest'] = [3000,1000,1000]\n",
    "train_val_test['DoS Hulk'] = [14000,6000,6000]\n",
    "train_val_test['DoS GoldenEye'] = [8000,3000,3000]\n",
    "train_val_test['DDoS'] = [16000,8500,8500]\n",
    "train_val_test['PortScan']= [16000,8500,8500]"
   ]
  },
  {
   "cell_type": "code",
   "execution_count": 8,
   "metadata": {},
   "outputs": [],
   "source": [
    "for idx, label in enumerate(labels):\n",
    "    dataset = split_train_val_test(class_idx[idx],train_val_test[label][0], train_val_test[label][1], train_val_test[label][2])\n",
    "    \n",
    "    if dataset[0] != []:\n",
    "        train[label] = dataset[0]\n",
    "        val[label] = dataset[1]\n",
    "        test[label] = dataset[2]"
   ]
  },
  {
   "cell_type": "code",
   "execution_count": 9,
   "metadata": {},
   "outputs": [],
   "source": [
    "train_set_idx = []\n",
    "val_set_idx = []\n",
    "test_set_idx = []\n",
    "\n",
    "for label in labels:\n",
    "    train_set_idx += train[label]\n",
    "    val_set_idx += val[label]\n",
    "    test_set_idx += test[label]"
   ]
  },
  {
   "cell_type": "code",
   "execution_count": 18,
   "metadata": {},
   "outputs": [],
   "source": [
    "np.save('train_set_idx.npy', np.array(train_set_idx))\n",
    "np.save('val_set_idx.npy', np.array(val_set_idx))\n",
    "np.save('test_set_idx.npy', np.array(test_set_idx))"
   ]
  },
  {
   "cell_type": "code",
   "execution_count": null,
   "metadata": {},
   "outputs": [],
   "source": []
  }
 ],
 "metadata": {
  "kernelspec": {
   "display_name": "Python 3",
   "language": "python",
   "name": "python3"
  },
  "language_info": {
   "codemirror_mode": {
    "name": "ipython",
    "version": 3
   },
   "file_extension": ".py",
   "mimetype": "text/x-python",
   "name": "python",
   "nbconvert_exporter": "python",
   "pygments_lexer": "ipython3",
   "version": "3.7.4"
  }
 },
 "nbformat": 4,
 "nbformat_minor": 4
}
