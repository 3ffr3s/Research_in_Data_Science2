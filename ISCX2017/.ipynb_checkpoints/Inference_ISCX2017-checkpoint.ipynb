{
 "cells": [
  {
   "cell_type": "code",
   "execution_count": 1,
   "metadata": {},
   "outputs": [],
   "source": [
    "import sys\n",
    "sys.path.append('/workspace/sy/sungyun/mdpi_IDS')\n",
    "\n",
    "import os\n",
    "import numpy as np\n",
    "import torch\n",
    "import torch.nn as nn\n",
    "from torch.utils.data import DataLoader\n",
    "from sklearn.metrics import roc_curve, f1_score\n",
    "import sklearn.metrics\n",
    "from Utils import PklsFolder, make_cls_idx, split_train_val_test\n",
    "from Layers import Flow_CLF\n",
    "from tqdm import tqdm\n",
    "from pathlib import Path \n",
    "import sys"
   ]
  },
  {
   "cell_type": "code",
   "execution_count": 2,
   "metadata": {},
   "outputs": [],
   "source": [
    "#parameters\n",
    "batch_size = 32\n",
    "num_epoch = 100\n",
    "\n",
    "num_layers = 2 # Byte_EncoderLayer 개수\n",
    "d_model = 40\n",
    "num_heads = 4\n",
    "d_k = 10\n",
    "d_v = 10\n",
    "d_hid = (d_model * 2) #PositionwiseFeedForward hidden dim\n",
    "add_attn_dim = (d_model * 2) # PacketEncoder attn_dim\n",
    "pck_len = 350\n",
    "num_classes = 2\n",
    "dropout = 0.1\n",
    "\n",
    "device = torch.device(\"cuda\" if torch.cuda.is_available() else \"cpu\")"
   ]
  },
  {
   "cell_type": "code",
   "execution_count": 3,
   "metadata": {},
   "outputs": [
    {
     "data": {
      "text/plain": [
       "\"\\n#test\\nbest_model_path = [sorted([x for x in Path(model_dir).glob('*_epoch_*.pt')], key = lambda x : int(x.stem.strip('model_epoch_')))[98]]\\n\""
      ]
     },
     "execution_count": 3,
     "metadata": {},
     "output_type": "execute_result"
    }
   ],
   "source": [
    "model_dir = './model'\n",
    "\n",
    "#validation\n",
    "model_path_list = sorted([x for x in Path(model_dir).glob('*_epoch_*.pt')], key = lambda x : int(x.stem.strip('model_epoch_')))\n",
    "loss_history_path = './val_loss_history.npy'"
   ]
  },
  {
   "cell_type": "code",
   "execution_count": 4,
   "metadata": {},
   "outputs": [],
   "source": [
    "flow_dataset = PklsFolder('../../../dataset/CICIDS2017/pkls')  # ISCX 2017 Dataset \n",
    "\n",
    "#validation\n",
    "\n",
    "val_set_idx = np.load('val_set_idx.npy')\n",
    "val_random_sampler = torch.utils.data.SubsetRandomSampler(val_set_idx)\n",
    "val_dataloader = DataLoader(flow_dataset, batch_size = batch_size, shuffle = False,  sampler = val_random_sampler)\n",
    "\n",
    "loss_history = []"
   ]
  },
  {
   "cell_type": "code",
   "execution_count": null,
   "metadata": {},
   "outputs": [
    {
     "name": "stderr",
     "output_type": "stream",
     "text": [
      "  0%|          | 0/200 [00:00<?, ?it/s]/workspace/sy/sungyun/mdpi_IDS/Layers.py:128: UserWarning: Implicit dimension choice for softmax has been deprecated. Change the call to include dim=X as an argument.\n",
      "  attn_score = self.softmax(attn2).unsqueeze(-1)\n",
      "  0%|          | 1/200 [03:25<11:22:36, 205.81s/it]"
     ]
    },
    {
     "name": "stdout",
     "output_type": "stream",
     "text": [
      "accuracy : 93.3250\n",
      "val loss : 352.11370038986206\n"
     ]
    },
    {
     "name": "stderr",
     "output_type": "stream",
     "text": [
      "\r",
      "  1%|          | 2/200 [06:17<10:45:38, 195.65s/it]"
     ]
    },
    {
     "name": "stdout",
     "output_type": "stream",
     "text": [
      "accuracy : 98.6250\n",
      "val loss : 105.54948239214718\n"
     ]
    },
    {
     "name": "stderr",
     "output_type": "stream",
     "text": [
      "\r",
      "  2%|▏         | 3/200 [09:10<10:19:32, 188.69s/it]"
     ]
    },
    {
     "name": "stdout",
     "output_type": "stream",
     "text": [
      "accuracy : 99.0967\n",
      "val loss : 77.51955131068826\n"
     ]
    },
    {
     "name": "stderr",
     "output_type": "stream",
     "text": [
      "\r",
      "  2%|▏         | 4/200 [12:04<10:01:53, 184.25s/it]"
     ]
    },
    {
     "name": "stdout",
     "output_type": "stream",
     "text": [
      "accuracy : 99.2717\n",
      "val loss : 64.79840846732259\n"
     ]
    }
   ],
   "source": [
    "#validation\n",
    "for model_path in tqdm(model_path_list) :\n",
    "    hit = 0\n",
    "    all_preds = []\n",
    "    all_labels = []\n",
    "    score = []\n",
    "    \n",
    "    model =  Flow_CLF(num_layers, d_model,num_heads, d_k, d_v, d_hid, add_attn_dim, pck_len, device, num_classes = num_classes, dropout = dropout).to(device)\n",
    "    model = torch.nn.DataParallel(model)\n",
    "    model.load_state_dict(torch.load(model_path)['state'])\n",
    "    criterion = nn.CrossEntropyLoss()\n",
    "    \n",
    "    model.eval()\n",
    "    \n",
    "    with torch.no_grad():\n",
    "        val_loss = 0\n",
    "        for (val_x, val_y) in val_dataloader:\n",
    "            preds = model(val_x.type(torch.long).to(device))\n",
    "            score.append(preds[:,1])\n",
    "            loss = criterion(preds, val_y.type(torch.long).to(device))\n",
    "            val_loss += loss.item()\n",
    "            hit += ((preds.argmax(dim=1) == val_y.type(torch.long).to(device)).sum().item())\n",
    "\n",
    "            all_preds.append(preds.argmax(dim=1))\n",
    "            all_labels.append(val_y)\n",
    "\n",
    "    loss_history.append(val_loss)\n",
    "    accuracy = 100 * (hit/len(val_random_sampler))\n",
    "    print(f'accuracy : {accuracy:.4f}')\n",
    "    print(f'val loss : {val_loss}')\n",
    "\n",
    "    del model\n",
    "\n",
    "np.save(loss_history_path, np.array(loss_history))"
   ]
  },
  {
   "cell_type": "code",
   "execution_count": 45,
   "metadata": {},
   "outputs": [],
   "source": [
    "best_model_loss = sys.float_info.max\n",
    "validation_loss = np.load('./val_loss_history.npy')\n",
    "\n",
    "for i in range(len(validation_loss)):\n",
    "    if validation_loss[i] < best_model_loss:\n",
    "        best_model_loss = validation_loss[i]\n",
    "        best_model_idx = i"
   ]
  },
  {
   "cell_type": "code",
   "execution_count": 46,
   "metadata": {},
   "outputs": [
    {
     "data": {
      "text/plain": [
       "98"
      ]
     },
     "execution_count": 46,
     "metadata": {},
     "output_type": "execute_result"
    }
   ],
   "source": [
    "best_model_idx"
   ]
  },
  {
   "cell_type": "code",
   "execution_count": 47,
   "metadata": {},
   "outputs": [
    {
     "data": {
      "text/plain": [
       "22.951204923912883"
      ]
     },
     "execution_count": 47,
     "metadata": {},
     "output_type": "execute_result"
    }
   ],
   "source": [
    "best_model_loss"
   ]
  },
  {
   "cell_type": "code",
   "execution_count": 41,
   "metadata": {},
   "outputs": [],
   "source": [
    "from matplotlib import pyplot as plt"
   ]
  },
  {
   "cell_type": "code",
   "execution_count": 42,
   "metadata": {},
   "outputs": [],
   "source": [
    "training_loss = torch.load(model_path_list[-1])['loss_history']\n",
    "avg_training_loss = []\n",
    "\n",
    "for i in range(len(training_loss)):\n",
    "    avg_training_loss.append(training_loss[i]/len(np.load('./train_set_idx.npy')))"
   ]
  },
  {
   "cell_type": "code",
   "execution_count": 43,
   "metadata": {},
   "outputs": [],
   "source": [
    "validation_loss = np.load('./val_loss_history.npy')\n",
    "avg_validation_loss = []\n",
    "\n",
    "for i in range(len(validation_loss)):\n",
    "    avg_validation_loss.append(validation_loss[i]/ len(np.load('./val_set_idx.npy')))"
   ]
  },
  {
   "cell_type": "code",
   "execution_count": 48,
   "metadata": {},
   "outputs": [
    {
     "data": {
      "text/plain": [
       "<matplotlib.legend.Legend at 0x7f618181e450>"
      ]
     },
     "execution_count": 48,
     "metadata": {},
     "output_type": "execute_result"
    },
    {
     "data": {
      "image/png": "[encoded data removed]",
      "text/plain": [
       "<Figure size 432x288 with 1 Axes>"
      ]
     },
     "metadata": {
      "needs_background": "light"
     },
     "output_type": "display_data"
    }
   ],
   "source": [
    "plt.plot([i for i in range(len(avg_training_loss))],avg_training_loss)\n",
    "plt.plot([i for i in range(len(avg_validation_loss))],avg_validation_loss)\n",
    "plt.xlabel('Epoch')\n",
    "plt.ylabel('Loss')\n",
    "plt.xticks([i for i in range(0,len(avg_training_loss),5)])\n",
    "plt.title('Training and Validation Loss')\n",
    "plt.legend(['Training_loss','Validation_loss'])"
   ]
  },
  {
   "cell_type": "code",
   "execution_count": 53,
   "metadata": {},
   "outputs": [
    {
     "name": "stderr",
     "output_type": "stream",
     "text": [
      "100%|██████████| 938/938 [01:58<00:00,  7.94it/s]\n"
     ]
    },
    {
     "name": "stdout",
     "output_type": "stream",
     "text": [
      "accuracy : 99.1333\n",
      "f1 score : 0.9913471778487754\n",
      "fpr : [0.         0.01026667 1.        ], tpr : [0.         0.99293333 1.        ], threshold : [2 1 0]\n",
      "test loss : 24.154580471105874\n"
     ]
    }
   ],
   "source": [
    "#test\n",
    "test_set_idx = np.load('test_set_idx.npy')\n",
    "test_random_sampler = torch.utils.data.SubsetRandomSampler(test_set_idx)\n",
    "test_dataloader = DataLoader(flow_dataset, batch_size = batch_size, shuffle = False,  sampler = test_random_sampler)\n",
    "\n",
    "loss_history = []\n",
    "\n",
    "#best_model_path = [sorted([x for x in Path(model_dir).glob('*_epoch_*.pt')], key = lambda x : int(x.stem.strip('model_epoch_')))[98]]\n",
    "\n",
    "\n",
    "for model_path in best_model_path :\n",
    "    hit = 0\n",
    "    all_preds = []\n",
    "    all_labels = []\n",
    "    score = []\n",
    "    \n",
    "    model =  Flow_CLF(num_layers, d_model,num_heads, d_k, d_v, d_hid, add_attn_dim, pck_len, device, num_classes = num_classes, dropout = dropout).to(device)\n",
    "    model = torch.nn.DataParallel(model)\n",
    "    model.load_state_dict(torch.load(model_path)['state'])\n",
    "    criterion = nn.CrossEntropyLoss()\n",
    "\n",
    "    model.eval()\n",
    "    with torch.no_grad():\n",
    "        test_loss = 0\n",
    "        for (test_x, test_y) in tqdm(test_dataloader):\n",
    "            preds = model(test_x.type(torch.long).to(device))\n",
    "            score.append(preds[:,1])\n",
    "            loss = criterion(preds, test_y.type(torch.long).to(device))\n",
    "            test_loss += loss.item()\n",
    "            hit += ((preds.argmax(dim=1) == test_y.type(torch.long).to(device)).sum().item())\n",
    "\n",
    "            all_preds.append(preds.argmax(dim=1))\n",
    "            all_labels.append(test_y)\n",
    "\n",
    "    loss_history.append(test_loss)\n",
    "    accuracy = 100 * (hit/len(test_random_sampler))\n",
    "    print(f'accuracy : {accuracy:.4f}')\n",
    "    confusion_matrix = sklearn.metrics.confusion_matrix(torch.cat(all_labels).to('cpu'),torch.cat(all_preds).to('cpu')).ravel()\n",
    "    #print(f'tn : {tn}, fp : {fp}, fn : {fp}, tp : {tp}')\n",
    "    res_f1_score = f1_score(torch.cat(all_labels).to('cpu'),torch.cat(all_preds).to('cpu'))\n",
    "    print(f'f1 score : {res_f1_score}')\n",
    "    fpr, tpr, thresholds = roc_curve(torch.cat(all_labels).to('cpu'),torch.cat(all_preds).to('cpu'))\n",
    "    print(f'fpr : {fpr}, tpr : {tpr}, threshold : {thresholds}')\n",
    "    print(f'test loss : {test_loss}')\n",
    "\n",
    "    del model\n"
   ]
  },
  {
   "cell_type": "code",
   "execution_count": 68,
   "metadata": {},
   "outputs": [
    {
     "data": {
      "image/png": "[encoded data removed]",
      "text/plain": [
       "<Figure size 432x288 with 2 Axes>"
      ]
     },
     "metadata": {
      "needs_background": "light"
     },
     "output_type": "display_data"
    }
   ],
   "source": [
    "import seaborn as sn\n",
    "import pandas as pd\n",
    "import matplotlib.pyplot as plt\n",
    "\n",
    "\n",
    "confusion_matrix= confusion_matrix.reshape([2,2])\n",
    "\n",
    "con_mat = np.zeros([2,2], dtype = np.int)\n",
    "con_mat[0][0] = confusion_matrix[1][1]\n",
    "con_mat[0][1] = confusion_matrix[1][0]\n",
    "con_mat[1][0] = confusion_matrix[0][1]\n",
    "con_mat[1][1] = confusion_matrix[0][0]\n",
    "\n",
    "plt.imshow(con_mat, interpolation='nearest', cmap=plt.cm.Blues)\n",
    "\n",
    "plt.tight_layout()\n",
    "plt.colorbar()\n",
    "label=[\"Malicious(1)\", \"Benign(0)\"] # 라벨값\n",
    "tick_marks = np.arange(len(label)) \n",
    "plt.xticks(tick_marks, label)\n",
    "plt.yticks(tick_marks, label)\n",
    "plt.xlabel('Predicted', fontsize=15)\n",
    "plt.ylabel('True', fontsize=15)\n",
    "# 표 안에 숫자 기입하는 방법\n",
    "name = [['TP','FN'], ['FP', 'TN']]\n",
    "thresh = con_mat.max() / 2.\n",
    "for i in range(2):\n",
    "     for j in range(2):\n",
    "        plt.text(j, i, str(name[i][j])+\" = \"+str(con_mat[i, j]),\n",
    "                 horizontalalignment=\"center\",\n",
    "                 color=\"white\" if con_mat[i, j] > thresh else \"black\",\n",
    "                 fontsize=16)\n",
    "    \n",
    "plt.show()"
   ]
  },
  {
   "cell_type": "code",
   "execution_count": null,
   "metadata": {},
   "outputs": [],
   "source": []
  }
 ],
 "metadata": {
  "kernelspec": {
   "display_name": "Python 3",
   "language": "python",
   "name": "python3"
  },
  "language_info": {
   "codemirror_mode": {
    "name": "ipython",
    "version": 3
   },
   "file_extension": ".py",
   "mimetype": "text/x-python",
   "name": "python",
   "nbconvert_exporter": "python",
   "pygments_lexer": "ipython3",
   "version": "3.7.4"
  }
 },
 "nbformat": 4,
 "nbformat_minor": 4
}
