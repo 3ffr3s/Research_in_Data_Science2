{
 "cells": [
  {
   "cell_type": "code",
   "execution_count": 1,
   "metadata": {},
   "outputs": [],
   "source": [
    "import sys\n",
    "sys.path.append('/workspace/sy/sungyun/Hier_Attn_Model/')\n",
    "\n",
    "from model import Hier_Attn_Net,create_embedding_matrix,load_embedding_matrix,word_2_index\n",
    "\n",
    "from Utils import PklsFolder, make_cls_idx, split_train_val_test\n",
    "from Layers import Flow_CLF\n",
    "from tqdm import tqdm\n",
    "import numpy as np\n",
    "import torch\n",
    "import torch.nn as nn\n",
    "from torch.utils.data import Dataset, DataLoader"
   ]
  },
  {
   "cell_type": "code",
   "execution_count": 2,
   "metadata": {},
   "outputs": [],
   "source": [
    "def count_param(model):\n",
    "    cnt = 0\n",
    "    for param in model.parameters():\n",
    "        p = 1\n",
    "        for s in param.size():\n",
    "            p *= s\n",
    "        cnt += p\n",
    "    return cnt"
   ]
  },
  {
   "cell_type": "code",
   "execution_count": 3,
   "metadata": {},
   "outputs": [],
   "source": [
    "#model param\n",
    "\n",
    "num_layers = 2 # Byte_EncoderLayer 개수\n",
    "d_model = 40\n",
    "num_heads = 4\n",
    "d_k = 10\n",
    "d_v = 10\n",
    "d_hid = (d_model * 2) #PositionwiseFeedForward hidden dim\n",
    "add_attn_dim = (d_model * 2) # PacketEncoder attn_dim\n",
    "pck_len = 350\n",
    "num_classes = 2\n",
    "dropout = 0.1\n",
    "\n",
    "device = torch.device(\"cuda\" if torch.cuda.is_available() else \"cpu\")"
   ]
  },
  {
   "cell_type": "code",
   "execution_count": 4,
   "metadata": {},
   "outputs": [],
   "source": [
    "model = Flow_CLF(num_layers, d_model,num_heads, d_k, d_v, d_hid, add_attn_dim, pck_len, device, num_classes = num_classes, dropout = dropout).to(device)"
   ]
  },
  {
   "cell_type": "code",
   "execution_count": 5,
   "metadata": {},
   "outputs": [],
   "source": [
    "#model param\n",
    "\n",
    "emb_dim = 50\n",
    "num_classes = 2     # 0: Benign, 1: Abnormal\n",
    "\n",
    "byte_hid_dim = 50\n",
    "byte_attn_dim = 100\n",
    "pack_hid_dim = 50\n",
    "pack_attn_dim = 100\n",
    "num_epoch = 20"
   ]
  },
  {
   "cell_type": "code",
   "execution_count": 6,
   "metadata": {},
   "outputs": [],
   "source": [
    "#embedding_matrix = load_embedding_matrix('/workspace/sy/sungyun/Hier_Attn_Model/Word2Vec_Model/w2v_epoch10.model')\n",
    "#word2index = word_2_index(embedding_matrix)\n",
    "\n",
    "#hier_model = Hier_Attn_Net(embedding_matrix,byte_hid_dim,byte_attn_dim,pack_hid_dim,pack_attn_dim,num_classes,device).to(device)\n",
    "\n",
    "hier_model = Hier_Attn_Net(emb_dim,byte_hid_dim,byte_attn_dim,pack_hid_dim,pack_attn_dim,num_classes,device).to(device)"
   ]
  },
  {
   "cell_type": "code",
   "execution_count": 7,
   "metadata": {},
   "outputs": [
    {
     "data": {
      "text/plain": [
       "39842"
      ]
     },
     "execution_count": 7,
     "metadata": {},
     "output_type": "execute_result"
    }
   ],
   "source": [
    "count_param(model)"
   ]
  },
  {
   "cell_type": "code",
   "execution_count": 8,
   "metadata": {},
   "outputs": [
    {
     "data": {
      "text/plain": [
       "109602"
      ]
     },
     "execution_count": 8,
     "metadata": {},
     "output_type": "execute_result"
    }
   ],
   "source": [
    "count_param(hier_model)"
   ]
  },
  {
   "cell_type": "code",
   "execution_count": 9,
   "metadata": {},
   "outputs": [
    {
     "name": "stdout",
     "output_type": "stream",
     "text": [
      "torch.Size([256, 50])\n",
      "torch.Size([150, 50])\n",
      "torch.Size([150, 50])\n",
      "torch.Size([150])\n",
      "torch.Size([150])\n",
      "torch.Size([150, 50])\n",
      "torch.Size([150, 50])\n",
      "torch.Size([150])\n",
      "torch.Size([150])\n",
      "torch.Size([100, 100])\n",
      "torch.Size([100])\n",
      "torch.Size([1, 100])\n",
      "torch.Size([150, 100])\n",
      "torch.Size([150, 50])\n",
      "torch.Size([150])\n",
      "torch.Size([150])\n",
      "torch.Size([150, 100])\n",
      "torch.Size([150, 50])\n",
      "torch.Size([150])\n",
      "torch.Size([150])\n",
      "torch.Size([100, 100])\n",
      "torch.Size([100])\n",
      "torch.Size([1, 100])\n",
      "torch.Size([2, 100])\n",
      "torch.Size([2])\n"
     ]
    }
   ],
   "source": [
    "for param in hier_model.parameters():\n",
    "    print(param.shape)"
   ]
  },
  {
   "cell_type": "code",
   "execution_count": 10,
   "metadata": {},
   "outputs": [
    {
     "name": "stdout",
     "output_type": "stream",
     "text": [
      "torch.Size([256, 40])\n",
      "torch.Size([40, 40])\n",
      "torch.Size([40, 40])\n",
      "torch.Size([40, 40])\n",
      "torch.Size([40, 40])\n",
      "torch.Size([40])\n",
      "torch.Size([40])\n",
      "torch.Size([80, 40])\n",
      "torch.Size([80])\n",
      "torch.Size([40, 80])\n",
      "torch.Size([40])\n",
      "torch.Size([40])\n",
      "torch.Size([40])\n",
      "torch.Size([40, 40])\n",
      "torch.Size([40, 40])\n",
      "torch.Size([40, 40])\n",
      "torch.Size([40, 40])\n",
      "torch.Size([40])\n",
      "torch.Size([40])\n",
      "torch.Size([80, 40])\n",
      "torch.Size([80])\n",
      "torch.Size([40, 80])\n",
      "torch.Size([40])\n",
      "torch.Size([40])\n",
      "torch.Size([40])\n",
      "torch.Size([80, 40])\n",
      "torch.Size([80])\n",
      "torch.Size([1, 80])\n",
      "torch.Size([2, 40])\n",
      "torch.Size([2])\n"
     ]
    }
   ],
   "source": [
    "for param in model.parameters():\n",
    "    print(param.shape)"
   ]
  },
  {
   "cell_type": "code",
   "execution_count": null,
   "metadata": {},
   "outputs": [],
   "source": [
    "모델의 메모리 사용량\n",
    "모델의 파라미터 개수"
   ]
  }
 ],
 "metadata": {
  "kernelspec": {
   "display_name": "Python 3",
   "language": "python",
   "name": "python3"
  },
  "language_info": {
   "codemirror_mode": {
    "name": "ipython",
    "version": 3
   },
   "file_extension": ".py",
   "mimetype": "text/x-python",
   "name": "python",
   "nbconvert_exporter": "python",
   "pygments_lexer": "ipython3",
   "version": "3.7.4"
  }
 },
 "nbformat": 4,
 "nbformat_minor": 4
}
