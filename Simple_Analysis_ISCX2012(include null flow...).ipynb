{
 "cells": [
  {
   "cell_type": "code",
   "execution_count": 1,
   "metadata": {},
   "outputs": [],
   "source": [
    "import torch\n",
    "import torch.nn as nn\n",
    "import torch.nn.functional as F\n",
    "import numpy as np \n",
    "from tqdm import tqdm\n",
    "import pandas as pd\n",
    "from pathlib import Path\n",
    "import os\n",
    "import glob\n",
    "\n",
    "from Utils import PklsFolder"
   ]
  },
  {
   "cell_type": "code",
   "execution_count": 2,
   "metadata": {},
   "outputs": [],
   "source": [
    "def dataframe_from_csv(target):\n",
    "    return pd.read_csv(target,encoding='cp1252').rename(columns=lambda x: x.strip())\n",
    "\n",
    "def dataframe_from_csvs(targets):\n",
    "    return pd.concat([dataframe_from_csv(x) for x in targets])\n",
    "\n",
    "def split_ben_mal_DF(Day_DF):\n",
    "\n",
    "    fwd_Benign_DF = Day_DF[Day_DF['tag'] == 'Normal'][['src', 'sport', 'dst', 'dport', 'protocol','tag','status']]\n",
    "    bwd_Benign_DF = Day_DF[Day_DF['tag'] == 'Normal'][['dst', 'dport','src', 'sport',  'protocol','tag','status']]\n",
    "    bwd_Benign_DF.columns = ['src', 'sport', 'dst', 'dport', 'protocol','tag','status']\n",
    "    bwd_Benign_DF = bwd_Benign_DF[bwd_Benign_DF['status'] ==2]\n",
    "    Benign_DF = pd.concat([fwd_Benign_DF, bwd_Benign_DF]).reset_index(drop = True)\n",
    "    \n",
    "    fwd_Mal_DF = Day_DF[Day_DF['tag'] != 'Normal'][['src', 'sport', 'dst', 'dport', 'protocol','tag','status']]\n",
    "    bwd_Mal_DF = Day_DF[Day_DF['tag'] != 'Normal'][['dst', 'dport','src', 'sport',  'protocol','tag','status']]\n",
    "    bwd_Mal_DF.columns = ['src', 'sport', 'dst', 'dport', 'protocol','tag','status']\n",
    "    bwd_Mal_DF = bwd_Mal_DF[bwd_Mal_DF['status']==2]\n",
    "    Mal_DF = pd.concat([fwd_Mal_DF,bwd_Mal_DF]).reset_index(drop = True)\n",
    "\n",
    "    return Benign_DF, Mal_DF\n",
    "\n",
    "def drop_dup_btw_df(df1, df2):\n",
    "    tmp = pd.concat([df1,df2]).reset_index(drop = True)\n",
    "    dup_index = tmp[tmp.duplicated(subset = ['Source IP','Source Port','Destination IP', 'Destination Port', 'Protocol'], keep = 'last')].index\n",
    "    dup_index = dup_index[dup_index < len(df1)]\n",
    "    return df1.drop(index = dup_index)"
   ]
  },
  {
   "cell_type": "code",
   "execution_count": 3,
   "metadata": {},
   "outputs": [],
   "source": [
    "#flow_dir = '../../ckh2/ckh/ISCX-IDS-2012/mod_flows_csv/'\n",
    "\n",
    "flow_dir = '../../ckh2/ckh/ISCX-IDS-2012/stat_flows_csv/'\n",
    "flow_paths = sorted(glob.glob(f'{flow_dir}/*.csv'))"
   ]
  },
  {
   "cell_type": "code",
   "execution_count": 4,
   "metadata": {},
   "outputs": [],
   "source": [
    "Benign_DF = pd.DataFrame()\n",
    "Mal_DF = pd.DataFrame()\n",
    "\n",
    "for flow_path in flow_paths: \n",
    "    day_DF_RAW = dataframe_from_csv(flow_path)\n",
    "    #day_DF = day_DF_RAW.drop_duplicates(subset = ['Source IP', 'Source Port', 'Destination IP', 'Destination Port', 'Protocol','Label'], keep = 'first')\n",
    "\n",
    "    day_DF = day_DF_RAW[day_DF_RAW['status'] != 0]\n",
    "    \n",
    "    B_DF ,M_DF = split_ben_mal_DF(day_DF)\n",
    "    #PB_DF = drop_dup_btw_df(B_DF,M_DF)\n",
    "    \n",
    "    #Benign_DF = pd.concat([Benign_DF,PB_DF])\n",
    "    Benign_DF = pd.concat([Benign_DF,B_DF])\n",
    "    Mal_DF = pd.concat([Mal_DF, M_DF])"
   ]
  },
  {
   "cell_type": "code",
   "execution_count": 17,
   "metadata": {},
   "outputs": [
    {
     "name": "stdout",
     "output_type": "stream",
     "text": [
      "CSV file info\n",
      "Benign Flow Count : 2921607\n",
      "Malicious Flow Count : 61554\n",
      "Total Count : 2983161\n"
     ]
    }
   ],
   "source": [
    "print(f'CSV file info\\nBenign Flow Count : {len(Benign_DF)}\\nMalicious Flow Count : {len(Mal_DF)}\\nTotal Count : {len(Benign_DF)+len(Mal_DF)}')"
   ]
  },
  {
   "cell_type": "code",
   "execution_count": 15,
   "metadata": {},
   "outputs": [],
   "source": [
    "pkls_dir = '../../pkls'\n",
    "flow_dataset = PklsFolder(pkls_dir)\n",
    "\n",
    "attack_class_list = [2,3,4,6]\n",
    "attack_class = {flow : i+1 for i, flow in enumerate(attack_class_list)}\n",
    "\n",
    "flow_cnt = flow_dataset.data_cnt_per_class()\n",
    "\n",
    "mal_cnt = 0\n",
    "for i in attack_class_list:\n",
    "    mal_cnt += flow_cnt[str(i)]"
   ]
  },
  {
   "cell_type": "code",
   "execution_count": 22,
   "metadata": {},
   "outputs": [
    {
     "name": "stdout",
     "output_type": "stream",
     "text": [
      "Pcap file info\n",
      "Bengin Flow Count : 2913224\n",
      "Malicious Flow Count : 58869\n",
      "Total Count : 2972093\n"
     ]
    }
   ],
   "source": [
    "print(f'Pcap file info\\nBengin Flow Count : {flow_cnt[str(0)]}\\nMalicious Flow Count : {mal_cnt}\\nTotal Count : {flow_cnt[str(0)]+mal_cnt}')"
   ]
  },
  {
   "cell_type": "code",
   "execution_count": 23,
   "metadata": {},
   "outputs": [
    {
     "data": {
      "text/plain": [
       "{'0': 2913224,\n",
       " '1': 2091,\n",
       " '2': 10488,\n",
       " '3': 3209,\n",
       " '4': 37308,\n",
       " '5': 12,\n",
       " '6': 7864}"
      ]
     },
     "execution_count": 23,
     "metadata": {},
     "output_type": "execute_result"
    }
   ],
   "source": [
    "flow_cnt"
   ]
  },
  {
   "cell_type": "code",
   "execution_count": 24,
   "metadata": {},
   "outputs": [],
   "source": [
    "five_tup = ['src', 'sport', 'dst', 'dport', 'protocol']"
   ]
  },
  {
   "cell_type": "code",
   "execution_count": 81,
   "metadata": {},
   "outputs": [
    {
     "data": {
      "text/html": [
       "<div>\n",
       "<style scoped>\n",
       "    .dataframe tbody tr th:only-of-type {\n",
       "        vertical-align: middle;\n",
       "    }\n",
       "\n",
       "    .dataframe tbody tr th {\n",
       "        vertical-align: top;\n",
       "    }\n",
       "\n",
       "    .dataframe thead th {\n",
       "        text-align: right;\n",
       "    }\n",
       "</style>\n",
       "<table border=\"1\" class=\"dataframe\">\n",
       "  <thead>\n",
       "    <tr style=\"text-align: right;\">\n",
       "      <th></th>\n",
       "      <th>src</th>\n",
       "      <th>Count</th>\n",
       "      <th>Percentage</th>\n",
       "    </tr>\n",
       "  </thead>\n",
       "  <tbody>\n",
       "    <tr>\n",
       "      <th>0</th>\n",
       "      <td>192.168.5.122</td>\n",
       "      <td>232904</td>\n",
       "      <td>7.97</td>\n",
       "    </tr>\n",
       "    <tr>\n",
       "      <th>1</th>\n",
       "      <td>192.168.2.107</td>\n",
       "      <td>196778</td>\n",
       "      <td>6.74</td>\n",
       "    </tr>\n",
       "    <tr>\n",
       "      <th>2</th>\n",
       "      <td>198.164.30.2</td>\n",
       "      <td>183901</td>\n",
       "      <td>6.29</td>\n",
       "    </tr>\n",
       "    <tr>\n",
       "      <th>3</th>\n",
       "      <td>203.73.24.75</td>\n",
       "      <td>145781</td>\n",
       "      <td>4.99</td>\n",
       "    </tr>\n",
       "    <tr>\n",
       "      <th>4</th>\n",
       "      <td>192.168.4.118</td>\n",
       "      <td>115795</td>\n",
       "      <td>3.96</td>\n",
       "    </tr>\n",
       "    <tr>\n",
       "      <th>5</th>\n",
       "      <td>192.168.1.101</td>\n",
       "      <td>101075</td>\n",
       "      <td>3.46</td>\n",
       "    </tr>\n",
       "    <tr>\n",
       "      <th>6</th>\n",
       "      <td>192.168.4.121</td>\n",
       "      <td>95026</td>\n",
       "      <td>3.25</td>\n",
       "    </tr>\n",
       "    <tr>\n",
       "      <th>7</th>\n",
       "      <td>125.6.164.51</td>\n",
       "      <td>92915</td>\n",
       "      <td>3.18</td>\n",
       "    </tr>\n",
       "    <tr>\n",
       "      <th>8</th>\n",
       "      <td>192.168.2.109</td>\n",
       "      <td>92799</td>\n",
       "      <td>3.18</td>\n",
       "    </tr>\n",
       "    <tr>\n",
       "      <th>9</th>\n",
       "      <td>192.168.3.116</td>\n",
       "      <td>83162</td>\n",
       "      <td>2.85</td>\n",
       "    </tr>\n",
       "  </tbody>\n",
       "</table>\n",
       "</div>"
      ],
      "text/plain": [
       "             src   Count  Percentage\n",
       "0  192.168.5.122  232904        7.97\n",
       "1  192.168.2.107  196778        6.74\n",
       "2   198.164.30.2  183901        6.29\n",
       "3   203.73.24.75  145781        4.99\n",
       "4  192.168.4.118  115795        3.96\n",
       "5  192.168.1.101  101075        3.46\n",
       "6  192.168.4.121   95026        3.25\n",
       "7   125.6.164.51   92915        3.18\n",
       "8  192.168.2.109   92799        3.18\n",
       "9  192.168.3.116   83162        2.85"
      ]
     },
     "metadata": {},
     "output_type": "display_data"
    },
    {
     "data": {
      "text/html": [
       "<div>\n",
       "<style scoped>\n",
       "    .dataframe tbody tr th:only-of-type {\n",
       "        vertical-align: middle;\n",
       "    }\n",
       "\n",
       "    .dataframe tbody tr th {\n",
       "        vertical-align: top;\n",
       "    }\n",
       "\n",
       "    .dataframe thead th {\n",
       "        text-align: right;\n",
       "    }\n",
       "</style>\n",
       "<table border=\"1\" class=\"dataframe\">\n",
       "  <thead>\n",
       "    <tr style=\"text-align: right;\">\n",
       "      <th></th>\n",
       "      <th>sport</th>\n",
       "      <th>Count</th>\n",
       "      <th>Percentage</th>\n",
       "    </tr>\n",
       "  </thead>\n",
       "  <tbody>\n",
       "    <tr>\n",
       "      <th>0</th>\n",
       "      <td>80</td>\n",
       "      <td>839909</td>\n",
       "      <td>28.75</td>\n",
       "    </tr>\n",
       "    <tr>\n",
       "      <th>1</th>\n",
       "      <td>53</td>\n",
       "      <td>215387</td>\n",
       "      <td>7.37</td>\n",
       "    </tr>\n",
       "    <tr>\n",
       "      <th>2</th>\n",
       "      <td>58040</td>\n",
       "      <td>59381</td>\n",
       "      <td>2.03</td>\n",
       "    </tr>\n",
       "    <tr>\n",
       "      <th>3</th>\n",
       "      <td>138</td>\n",
       "      <td>33363</td>\n",
       "      <td>1.14</td>\n",
       "    </tr>\n",
       "    <tr>\n",
       "      <th>4</th>\n",
       "      <td>137</td>\n",
       "      <td>29523</td>\n",
       "      <td>1.01</td>\n",
       "    </tr>\n",
       "    <tr>\n",
       "      <th>5</th>\n",
       "      <td>443</td>\n",
       "      <td>28410</td>\n",
       "      <td>0.97</td>\n",
       "    </tr>\n",
       "    <tr>\n",
       "      <th>6</th>\n",
       "      <td>25</td>\n",
       "      <td>8043</td>\n",
       "      <td>0.28</td>\n",
       "    </tr>\n",
       "    <tr>\n",
       "      <th>7</th>\n",
       "      <td>139</td>\n",
       "      <td>7405</td>\n",
       "      <td>0.25</td>\n",
       "    </tr>\n",
       "    <tr>\n",
       "      <th>8</th>\n",
       "      <td>51413</td>\n",
       "      <td>5610</td>\n",
       "      <td>0.19</td>\n",
       "    </tr>\n",
       "    <tr>\n",
       "      <th>9</th>\n",
       "      <td>1027</td>\n",
       "      <td>2024</td>\n",
       "      <td>0.07</td>\n",
       "    </tr>\n",
       "  </tbody>\n",
       "</table>\n",
       "</div>"
      ],
      "text/plain": [
       "   sport   Count  Percentage\n",
       "0     80  839909       28.75\n",
       "1     53  215387        7.37\n",
       "2  58040   59381        2.03\n",
       "3    138   33363        1.14\n",
       "4    137   29523        1.01\n",
       "5    443   28410        0.97\n",
       "6     25    8043        0.28\n",
       "7    139    7405        0.25\n",
       "8  51413    5610        0.19\n",
       "9   1027    2024        0.07"
      ]
     },
     "metadata": {},
     "output_type": "display_data"
    },
    {
     "data": {
      "text/html": [
       "<div>\n",
       "<style scoped>\n",
       "    .dataframe tbody tr th:only-of-type {\n",
       "        vertical-align: middle;\n",
       "    }\n",
       "\n",
       "    .dataframe tbody tr th {\n",
       "        vertical-align: top;\n",
       "    }\n",
       "\n",
       "    .dataframe thead th {\n",
       "        text-align: right;\n",
       "    }\n",
       "</style>\n",
       "<table border=\"1\" class=\"dataframe\">\n",
       "  <thead>\n",
       "    <tr style=\"text-align: right;\">\n",
       "      <th></th>\n",
       "      <th>dst</th>\n",
       "      <th>Count</th>\n",
       "      <th>Percentage</th>\n",
       "    </tr>\n",
       "  </thead>\n",
       "  <tbody>\n",
       "    <tr>\n",
       "      <th>0</th>\n",
       "      <td>192.168.5.122</td>\n",
       "      <td>340023</td>\n",
       "      <td>11.64</td>\n",
       "    </tr>\n",
       "    <tr>\n",
       "      <th>1</th>\n",
       "      <td>198.164.30.2</td>\n",
       "      <td>184862</td>\n",
       "      <td>6.33</td>\n",
       "    </tr>\n",
       "    <tr>\n",
       "      <th>2</th>\n",
       "      <td>203.73.24.75</td>\n",
       "      <td>177451</td>\n",
       "      <td>6.07</td>\n",
       "    </tr>\n",
       "    <tr>\n",
       "      <th>3</th>\n",
       "      <td>192.168.2.107</td>\n",
       "      <td>164806</td>\n",
       "      <td>5.64</td>\n",
       "    </tr>\n",
       "    <tr>\n",
       "      <th>4</th>\n",
       "      <td>125.6.164.51</td>\n",
       "      <td>98739</td>\n",
       "      <td>3.38</td>\n",
       "    </tr>\n",
       "    <tr>\n",
       "      <th>5</th>\n",
       "      <td>192.168.4.118</td>\n",
       "      <td>86406</td>\n",
       "      <td>2.96</td>\n",
       "    </tr>\n",
       "    <tr>\n",
       "      <th>6</th>\n",
       "      <td>192.168.1.101</td>\n",
       "      <td>64336</td>\n",
       "      <td>2.20</td>\n",
       "    </tr>\n",
       "    <tr>\n",
       "      <th>7</th>\n",
       "      <td>192.168.2.109</td>\n",
       "      <td>57350</td>\n",
       "      <td>1.96</td>\n",
       "    </tr>\n",
       "    <tr>\n",
       "      <th>8</th>\n",
       "      <td>192.168.3.116</td>\n",
       "      <td>54885</td>\n",
       "      <td>1.88</td>\n",
       "    </tr>\n",
       "    <tr>\n",
       "      <th>9</th>\n",
       "      <td>192.168.3.115</td>\n",
       "      <td>50808</td>\n",
       "      <td>1.74</td>\n",
       "    </tr>\n",
       "  </tbody>\n",
       "</table>\n",
       "</div>"
      ],
      "text/plain": [
       "             dst   Count  Percentage\n",
       "0  192.168.5.122  340023       11.64\n",
       "1   198.164.30.2  184862        6.33\n",
       "2   203.73.24.75  177451        6.07\n",
       "3  192.168.2.107  164806        5.64\n",
       "4   125.6.164.51   98739        3.38\n",
       "5  192.168.4.118   86406        2.96\n",
       "6  192.168.1.101   64336        2.20\n",
       "7  192.168.2.109   57350        1.96\n",
       "8  192.168.3.116   54885        1.88\n",
       "9  192.168.3.115   50808        1.74"
      ]
     },
     "metadata": {},
     "output_type": "display_data"
    },
    {
     "data": {
      "text/html": [
       "<div>\n",
       "<style scoped>\n",
       "    .dataframe tbody tr th:only-of-type {\n",
       "        vertical-align: middle;\n",
       "    }\n",
       "\n",
       "    .dataframe tbody tr th {\n",
       "        vertical-align: top;\n",
       "    }\n",
       "\n",
       "    .dataframe thead th {\n",
       "        text-align: right;\n",
       "    }\n",
       "</style>\n",
       "<table border=\"1\" class=\"dataframe\">\n",
       "  <thead>\n",
       "    <tr style=\"text-align: right;\">\n",
       "      <th></th>\n",
       "      <th>dport</th>\n",
       "      <th>Count</th>\n",
       "      <th>Percentage</th>\n",
       "    </tr>\n",
       "  </thead>\n",
       "  <tbody>\n",
       "    <tr>\n",
       "      <th>0</th>\n",
       "      <td>80</td>\n",
       "      <td>1251840</td>\n",
       "      <td>42.85</td>\n",
       "    </tr>\n",
       "    <tr>\n",
       "      <th>1</th>\n",
       "      <td>53</td>\n",
       "      <td>257530</td>\n",
       "      <td>8.81</td>\n",
       "    </tr>\n",
       "    <tr>\n",
       "      <th>2</th>\n",
       "      <td>58040</td>\n",
       "      <td>54542</td>\n",
       "      <td>1.87</td>\n",
       "    </tr>\n",
       "    <tr>\n",
       "      <th>3</th>\n",
       "      <td>443</td>\n",
       "      <td>42546</td>\n",
       "      <td>1.46</td>\n",
       "    </tr>\n",
       "    <tr>\n",
       "      <th>4</th>\n",
       "      <td>138</td>\n",
       "      <td>33363</td>\n",
       "      <td>1.14</td>\n",
       "    </tr>\n",
       "    <tr>\n",
       "      <th>5</th>\n",
       "      <td>137</td>\n",
       "      <td>29523</td>\n",
       "      <td>1.01</td>\n",
       "    </tr>\n",
       "    <tr>\n",
       "      <th>6</th>\n",
       "      <td>110</td>\n",
       "      <td>11841</td>\n",
       "      <td>0.41</td>\n",
       "    </tr>\n",
       "    <tr>\n",
       "      <th>7</th>\n",
       "      <td>143</td>\n",
       "      <td>11733</td>\n",
       "      <td>0.40</td>\n",
       "    </tr>\n",
       "    <tr>\n",
       "      <th>8</th>\n",
       "      <td>25</td>\n",
       "      <td>8200</td>\n",
       "      <td>0.28</td>\n",
       "    </tr>\n",
       "    <tr>\n",
       "      <th>9</th>\n",
       "      <td>139</td>\n",
       "      <td>7405</td>\n",
       "      <td>0.25</td>\n",
       "    </tr>\n",
       "  </tbody>\n",
       "</table>\n",
       "</div>"
      ],
      "text/plain": [
       "   dport    Count  Percentage\n",
       "0     80  1251840       42.85\n",
       "1     53   257530        8.81\n",
       "2  58040    54542        1.87\n",
       "3    443    42546        1.46\n",
       "4    138    33363        1.14\n",
       "5    137    29523        1.01\n",
       "6    110    11841        0.41\n",
       "7    143    11733        0.40\n",
       "8     25     8200        0.28\n",
       "9    139     7405        0.25"
      ]
     },
     "metadata": {},
     "output_type": "display_data"
    },
    {
     "data": {
      "text/html": [
       "<div>\n",
       "<style scoped>\n",
       "    .dataframe tbody tr th:only-of-type {\n",
       "        vertical-align: middle;\n",
       "    }\n",
       "\n",
       "    .dataframe tbody tr th {\n",
       "        vertical-align: top;\n",
       "    }\n",
       "\n",
       "    .dataframe thead th {\n",
       "        text-align: right;\n",
       "    }\n",
       "</style>\n",
       "<table border=\"1\" class=\"dataframe\">\n",
       "  <thead>\n",
       "    <tr style=\"text-align: right;\">\n",
       "      <th></th>\n",
       "      <th>protocol</th>\n",
       "      <th>Count</th>\n",
       "      <th>Percentage</th>\n",
       "    </tr>\n",
       "  </thead>\n",
       "  <tbody>\n",
       "    <tr>\n",
       "      <th>0</th>\n",
       "      <td>tcp_ip</td>\n",
       "      <td>2270486</td>\n",
       "      <td>77.71</td>\n",
       "    </tr>\n",
       "    <tr>\n",
       "      <th>1</th>\n",
       "      <td>udp_ip</td>\n",
       "      <td>651121</td>\n",
       "      <td>22.29</td>\n",
       "    </tr>\n",
       "  </tbody>\n",
       "</table>\n",
       "</div>"
      ],
      "text/plain": [
       "  protocol    Count  Percentage\n",
       "0   tcp_ip  2270486       77.71\n",
       "1   udp_ip   651121       22.29"
      ]
     },
     "metadata": {},
     "output_type": "display_data"
    }
   ],
   "source": [
    "for field in five_tup:\n",
    "    benign = Benign_DF[field].value_counts().head(10).reset_index()\n",
    "    benign = benign.rename(columns = {'index' : field, field : 'Count'})\n",
    "    benign['Percentage'] = benign['Count'].map(lambda x : round(100 * x / Benign_DF.shape[0],2))\n",
    "    \n",
    "    display(benign)"
   ]
  },
  {
   "cell_type": "code",
   "execution_count": 26,
   "metadata": {},
   "outputs": [
    {
     "data": {
      "text/html": [
       "<div>\n",
       "<style scoped>\n",
       "    .dataframe tbody tr th:only-of-type {\n",
       "        vertical-align: middle;\n",
       "    }\n",
       "\n",
       "    .dataframe tbody tr th {\n",
       "        vertical-align: top;\n",
       "    }\n",
       "\n",
       "    .dataframe thead th {\n",
       "        text-align: right;\n",
       "    }\n",
       "</style>\n",
       "<table border=\"1\" class=\"dataframe\">\n",
       "  <thead>\n",
       "    <tr style=\"text-align: right;\">\n",
       "      <th></th>\n",
       "      <th>src</th>\n",
       "      <th>Count</th>\n",
       "      <th>Percentage</th>\n",
       "    </tr>\n",
       "  </thead>\n",
       "  <tbody>\n",
       "    <tr>\n",
       "      <th>0</th>\n",
       "      <td>192.168.2.113</td>\n",
       "      <td>11848</td>\n",
       "      <td>19.25</td>\n",
       "    </tr>\n",
       "    <tr>\n",
       "      <th>1</th>\n",
       "      <td>192.168.2.110</td>\n",
       "      <td>8948</td>\n",
       "      <td>14.54</td>\n",
       "    </tr>\n",
       "    <tr>\n",
       "      <th>2</th>\n",
       "      <td>192.168.1.105</td>\n",
       "      <td>8536</td>\n",
       "      <td>13.87</td>\n",
       "    </tr>\n",
       "    <tr>\n",
       "      <th>3</th>\n",
       "      <td>192.168.4.118</td>\n",
       "      <td>5211</td>\n",
       "      <td>8.47</td>\n",
       "    </tr>\n",
       "    <tr>\n",
       "      <th>4</th>\n",
       "      <td>192.168.4.120</td>\n",
       "      <td>4967</td>\n",
       "      <td>8.07</td>\n",
       "    </tr>\n",
       "  </tbody>\n",
       "</table>\n",
       "</div>"
      ],
      "text/plain": [
       "             src  Count  Percentage\n",
       "0  192.168.2.113  11848       19.25\n",
       "1  192.168.2.110   8948       14.54\n",
       "2  192.168.1.105   8536       13.87\n",
       "3  192.168.4.118   5211        8.47\n",
       "4  192.168.4.120   4967        8.07"
      ]
     },
     "metadata": {},
     "output_type": "display_data"
    },
    {
     "data": {
      "text/html": [
       "<div>\n",
       "<style scoped>\n",
       "    .dataframe tbody tr th:only-of-type {\n",
       "        vertical-align: middle;\n",
       "    }\n",
       "\n",
       "    .dataframe tbody tr th {\n",
       "        vertical-align: top;\n",
       "    }\n",
       "\n",
       "    .dataframe thead th {\n",
       "        text-align: right;\n",
       "    }\n",
       "</style>\n",
       "<table border=\"1\" class=\"dataframe\">\n",
       "  <thead>\n",
       "    <tr style=\"text-align: right;\">\n",
       "      <th></th>\n",
       "      <th>sport</th>\n",
       "      <th>Count</th>\n",
       "      <th>Percentage</th>\n",
       "    </tr>\n",
       "  </thead>\n",
       "  <tbody>\n",
       "    <tr>\n",
       "      <th>0</th>\n",
       "      <td>54806</td>\n",
       "      <td>3624</td>\n",
       "      <td>5.89</td>\n",
       "    </tr>\n",
       "    <tr>\n",
       "      <th>1</th>\n",
       "      <td>22</td>\n",
       "      <td>2905</td>\n",
       "      <td>4.72</td>\n",
       "    </tr>\n",
       "    <tr>\n",
       "      <th>2</th>\n",
       "      <td>80</td>\n",
       "      <td>1246</td>\n",
       "      <td>2.02</td>\n",
       "    </tr>\n",
       "    <tr>\n",
       "      <th>3</th>\n",
       "      <td>52707</td>\n",
       "      <td>731</td>\n",
       "      <td>1.19</td>\n",
       "    </tr>\n",
       "    <tr>\n",
       "      <th>4</th>\n",
       "      <td>34431</td>\n",
       "      <td>693</td>\n",
       "      <td>1.13</td>\n",
       "    </tr>\n",
       "  </tbody>\n",
       "</table>\n",
       "</div>"
      ],
      "text/plain": [
       "   sport  Count  Percentage\n",
       "0  54806   3624        5.89\n",
       "1     22   2905        4.72\n",
       "2     80   1246        2.02\n",
       "3  52707    731        1.19\n",
       "4  34431    693        1.13"
      ]
     },
     "metadata": {},
     "output_type": "display_data"
    },
    {
     "data": {
      "text/html": [
       "<div>\n",
       "<style scoped>\n",
       "    .dataframe tbody tr th:only-of-type {\n",
       "        vertical-align: middle;\n",
       "    }\n",
       "\n",
       "    .dataframe tbody tr th {\n",
       "        vertical-align: top;\n",
       "    }\n",
       "\n",
       "    .dataframe thead th {\n",
       "        text-align: right;\n",
       "    }\n",
       "</style>\n",
       "<table border=\"1\" class=\"dataframe\">\n",
       "  <thead>\n",
       "    <tr style=\"text-align: right;\">\n",
       "      <th></th>\n",
       "      <th>dst</th>\n",
       "      <th>Count</th>\n",
       "      <th>Percentage</th>\n",
       "    </tr>\n",
       "  </thead>\n",
       "  <tbody>\n",
       "    <tr>\n",
       "      <th>0</th>\n",
       "      <td>192.168.5.122</td>\n",
       "      <td>45256</td>\n",
       "      <td>73.52</td>\n",
       "    </tr>\n",
       "    <tr>\n",
       "      <th>1</th>\n",
       "      <td>192.168.1.105</td>\n",
       "      <td>4551</td>\n",
       "      <td>7.39</td>\n",
       "    </tr>\n",
       "    <tr>\n",
       "      <th>2</th>\n",
       "      <td>131.202.243.90</td>\n",
       "      <td>2889</td>\n",
       "      <td>4.69</td>\n",
       "    </tr>\n",
       "    <tr>\n",
       "      <th>3</th>\n",
       "      <td>192.168.2.112</td>\n",
       "      <td>2037</td>\n",
       "      <td>3.31</td>\n",
       "    </tr>\n",
       "    <tr>\n",
       "      <th>4</th>\n",
       "      <td>192.168.2.113</td>\n",
       "      <td>806</td>\n",
       "      <td>1.31</td>\n",
       "    </tr>\n",
       "  </tbody>\n",
       "</table>\n",
       "</div>"
      ],
      "text/plain": [
       "              dst  Count  Percentage\n",
       "0   192.168.5.122  45256       73.52\n",
       "1   192.168.1.105   4551        7.39\n",
       "2  131.202.243.90   2889        4.69\n",
       "3   192.168.2.112   2037        3.31\n",
       "4   192.168.2.113    806        1.31"
      ]
     },
     "metadata": {},
     "output_type": "display_data"
    },
    {
     "data": {
      "text/html": [
       "<div>\n",
       "<style scoped>\n",
       "    .dataframe tbody tr th:only-of-type {\n",
       "        vertical-align: middle;\n",
       "    }\n",
       "\n",
       "    .dataframe tbody tr th {\n",
       "        vertical-align: top;\n",
       "    }\n",
       "\n",
       "    .dataframe thead th {\n",
       "        text-align: right;\n",
       "    }\n",
       "</style>\n",
       "<table border=\"1\" class=\"dataframe\">\n",
       "  <thead>\n",
       "    <tr style=\"text-align: right;\">\n",
       "      <th></th>\n",
       "      <th>dport</th>\n",
       "      <th>Count</th>\n",
       "      <th>Percentage</th>\n",
       "    </tr>\n",
       "  </thead>\n",
       "  <tbody>\n",
       "    <tr>\n",
       "      <th>0</th>\n",
       "      <td>80</td>\n",
       "      <td>38326</td>\n",
       "      <td>62.26</td>\n",
       "    </tr>\n",
       "    <tr>\n",
       "      <th>1</th>\n",
       "      <td>22</td>\n",
       "      <td>7165</td>\n",
       "      <td>11.64</td>\n",
       "    </tr>\n",
       "    <tr>\n",
       "      <th>2</th>\n",
       "      <td>54806</td>\n",
       "      <td>3623</td>\n",
       "      <td>5.89</td>\n",
       "    </tr>\n",
       "    <tr>\n",
       "      <th>3</th>\n",
       "      <td>52707</td>\n",
       "      <td>731</td>\n",
       "      <td>1.19</td>\n",
       "    </tr>\n",
       "    <tr>\n",
       "      <th>4</th>\n",
       "      <td>34431</td>\n",
       "      <td>693</td>\n",
       "      <td>1.13</td>\n",
       "    </tr>\n",
       "  </tbody>\n",
       "</table>\n",
       "</div>"
      ],
      "text/plain": [
       "   dport  Count  Percentage\n",
       "0     80  38326       62.26\n",
       "1     22   7165       11.64\n",
       "2  54806   3623        5.89\n",
       "3  52707    731        1.19\n",
       "4  34431    693        1.13"
      ]
     },
     "metadata": {},
     "output_type": "display_data"
    },
    {
     "data": {
      "text/html": [
       "<div>\n",
       "<style scoped>\n",
       "    .dataframe tbody tr th:only-of-type {\n",
       "        vertical-align: middle;\n",
       "    }\n",
       "\n",
       "    .dataframe tbody tr th {\n",
       "        vertical-align: top;\n",
       "    }\n",
       "\n",
       "    .dataframe thead th {\n",
       "        text-align: right;\n",
       "    }\n",
       "</style>\n",
       "<table border=\"1\" class=\"dataframe\">\n",
       "  <thead>\n",
       "    <tr style=\"text-align: right;\">\n",
       "      <th></th>\n",
       "      <th>protocol</th>\n",
       "      <th>Count</th>\n",
       "      <th>Percentage</th>\n",
       "    </tr>\n",
       "  </thead>\n",
       "  <tbody>\n",
       "    <tr>\n",
       "      <th>0</th>\n",
       "      <td>tcp_ip</td>\n",
       "      <td>61521</td>\n",
       "      <td>99.95</td>\n",
       "    </tr>\n",
       "    <tr>\n",
       "      <th>1</th>\n",
       "      <td>udp_ip</td>\n",
       "      <td>33</td>\n",
       "      <td>0.05</td>\n",
       "    </tr>\n",
       "  </tbody>\n",
       "</table>\n",
       "</div>"
      ],
      "text/plain": [
       "  protocol  Count  Percentage\n",
       "0   tcp_ip  61521       99.95\n",
       "1   udp_ip     33        0.05"
      ]
     },
     "metadata": {},
     "output_type": "display_data"
    }
   ],
   "source": [
    "for field in five_tup:\n",
    "    mal = Mal_DF[field].value_counts().head(5).reset_index()\n",
    "    mal = mal.rename(columns = {'index' : field, field : 'Count'})\n",
    "    mal['Percentage'] = mal['Count'].map(lambda x : round(100 * x / Mal_DF.shape[0],2))\n",
    "    \n",
    "    display(mal)\n",
    "    "
   ]
  },
  {
   "cell_type": "code",
   "execution_count": 63,
   "metadata": {},
   "outputs": [
    {
     "name": "stderr",
     "output_type": "stream",
     "text": [
      "100%|██████████| 2974196/2974196 [00:42<00:00, 70656.79it/s]\n"
     ]
    }
   ],
   "source": [
    "ben_flow_len = []\n",
    "mal_flow_len = []\n",
    "ben_pck_len = []\n",
    "mal_pck_len = []\n",
    "\n",
    "for i in tqdm(range(len(flow_dataset))):\n",
    "    flow, label = flow_dataset[i]\n",
    "    \n",
    "    if label == 0:\n",
    "        ben_flow_len.append(len(flow))\n",
    "        \n",
    "        for b_idx in range(len(flow)):\n",
    "            ben_pck_len.append(len(flow[b_idx]))\n",
    "    elif label in attack_class_list:\n",
    "        mal_flow_len.append(len(flow))\n",
    "        \n",
    "        for m_idx in range(len(flow)):\n",
    "            mal_pck_len.append(len(flow[m_idx]))"
   ]
  },
  {
   "cell_type": "code",
   "execution_count": 64,
   "metadata": {},
   "outputs": [
    {
     "name": "stderr",
     "output_type": "stream",
     "text": [
      "100%|██████████| 2913224/2913224 [00:00<00:00, 2952869.42it/s]\n"
     ]
    }
   ],
   "source": [
    "ben_over_128 = 0\n",
    "for i in tqdm(range(len(ben_flow_len))):\n",
    "    if ben_flow_len[i] > 128:\n",
    "        ben_over_128 +=1"
   ]
  },
  {
   "cell_type": "code",
   "execution_count": 65,
   "metadata": {},
   "outputs": [
    {
     "name": "stderr",
     "output_type": "stream",
     "text": [
      "100%|██████████| 58869/58869 [00:00<00:00, 2284299.32it/s]\n"
     ]
    }
   ],
   "source": [
    "mal_over_128 = 0\n",
    "for i in tqdm(range(len(mal_flow_len))):\n",
    "    if mal_flow_len[i] > 128:\n",
    "        mal_over_128 +=1"
   ]
  },
  {
   "cell_type": "code",
   "execution_count": 66,
   "metadata": {},
   "outputs": [
    {
     "name": "stdout",
     "output_type": "stream",
     "text": [
      "Percentage of Benign Flow Length Over 128: 0.0000%\n"
     ]
    }
   ],
   "source": [
    "print(f'Percentage of Benign Flow Length Over 128: {100 *ben_over_128/len(ben_flow_len):.4f}%')"
   ]
  },
  {
   "cell_type": "code",
   "execution_count": 67,
   "metadata": {},
   "outputs": [
    {
     "name": "stdout",
     "output_type": "stream",
     "text": [
      "Percentage of Malicious Flow Length Over 128: 0.0000%\n"
     ]
    }
   ],
   "source": [
    "print(f'Percentage of Malicious Flow Length Over 128: {100 *mal_over_128/len(mal_flow_len):.4f}%')"
   ]
  },
  {
   "cell_type": "code",
   "execution_count": 68,
   "metadata": {},
   "outputs": [
    {
     "name": "stdout",
     "output_type": "stream",
     "text": [
      "Average of Benign Flow Length : 0    8.686199\n",
      "dtype: float64\n"
     ]
    }
   ],
   "source": [
    "print(f'Average of Benign Flow Length : {pd.DataFrame(ben_flow_len).mean()}')"
   ]
  },
  {
   "cell_type": "code",
   "execution_count": 69,
   "metadata": {},
   "outputs": [
    {
     "name": "stdout",
     "output_type": "stream",
     "text": [
      "Average of Malicious Flow Length : 0    53.115766\n",
      "dtype: float64\n"
     ]
    }
   ],
   "source": [
    "print(f'Average of Malicious Flow Length : {pd.DataFrame(mal_flow_len).mean()}')"
   ]
  },
  {
   "cell_type": "code",
   "execution_count": 70,
   "metadata": {},
   "outputs": [
    {
     "data": {
      "text/plain": [
       "Text(0, 0.5, 'Density')"
      ]
     },
     "execution_count": 70,
     "metadata": {},
     "output_type": "execute_result"
    },
    {
     "data": {
      "image/png": "[encoded data removed]",
      "text/plain": [
       "<Figure size 1080x360 with 1 Axes>"
      ]
     },
     "metadata": {
      "needs_background": "light"
     },
     "output_type": "display_data"
    }
   ],
   "source": [
    "import matplotlib.pyplot as plt\n",
    "\n",
    "plt.figure(figsize = (15,5))\n",
    "\n",
    "plt.hist(ben_flow_len, bins = 14, alpha = 0.5, range = (0,140), density = True, color = 'b', label = 'Benign_Flow_Length')\n",
    "plt.hist(mal_flow_len, bins = 14, alpha = 0.5, range = (0,140), density = True, color = 'r', label = 'Malicious_Flow_Length')\n",
    "plt.xticks(np.arange(0,140,10))\n",
    "\n",
    "plt.axvline(pd.DataFrame(ben_flow_len).mean().item(), color='b', linestyle='dashed', linewidth=2, label = 'Avg of Ben_Flow_Len')\n",
    "plt.axvline(pd.DataFrame(mal_flow_len).mean().item(), color='r', linestyle='dashed', linewidth=2, label = 'Avg of Mal_Flow_Len')\n",
    "\n",
    "plt.legend()\n",
    "plt.xlabel('Flow Length')\n",
    "plt.ylabel('Density')"
   ]
  },
  {
   "cell_type": "code",
   "execution_count": 71,
   "metadata": {},
   "outputs": [
    {
     "name": "stderr",
     "output_type": "stream",
     "text": [
      "100%|██████████| 25304842/25304842 [00:07<00:00, 3451995.06it/s]\n"
     ]
    }
   ],
   "source": [
    "ben_over_1000 = 0\n",
    "for i in tqdm(range(len(ben_pck_len))):\n",
    "    if ben_pck_len[i] > 1000:\n",
    "        ben_over_1000 +=1"
   ]
  },
  {
   "cell_type": "code",
   "execution_count": 72,
   "metadata": {},
   "outputs": [
    {
     "name": "stderr",
     "output_type": "stream",
     "text": [
      "100%|██████████| 3126872/3126872 [00:01<00:00, 2923608.13it/s]\n"
     ]
    }
   ],
   "source": [
    "mal_over_1000 = 0\n",
    "for i in tqdm(range(len(mal_pck_len))):\n",
    "    if mal_pck_len[i] > 1000:\n",
    "        mal_over_1000 +=1"
   ]
  },
  {
   "cell_type": "code",
   "execution_count": 73,
   "metadata": {},
   "outputs": [
    {
     "name": "stdout",
     "output_type": "stream",
     "text": [
      "Percentage of Benign Packet Length Over 1000: 0.1465%\n"
     ]
    }
   ],
   "source": [
    "print(f'Percentage of Benign Packet Length Over 1000: {100 *ben_over_1000/len(ben_pck_len):.4f}%')"
   ]
  },
  {
   "cell_type": "code",
   "execution_count": 74,
   "metadata": {},
   "outputs": [
    {
     "name": "stdout",
     "output_type": "stream",
     "text": [
      "Percentage of Malicious Packet Length Over 1000: 0.1134%\n"
     ]
    }
   ],
   "source": [
    "print(f'Percentage of Malicious Packet Length Over 1000: {100 *mal_over_1000/len(mal_pck_len):.4f}%')"
   ]
  },
  {
   "cell_type": "code",
   "execution_count": 75,
   "metadata": {},
   "outputs": [
    {
     "name": "stdout",
     "output_type": "stream",
     "text": [
      "Average of Benign Packet Length : 0    78.064581\n",
      "dtype: float64\n"
     ]
    }
   ],
   "source": [
    "print(f'Average of Benign Packet Length : {pd.DataFrame(ben_pck_len).mean()}')"
   ]
  },
  {
   "cell_type": "code",
   "execution_count": 76,
   "metadata": {},
   "outputs": [
    {
     "name": "stdout",
     "output_type": "stream",
     "text": [
      "Average of Malicious Packet Length : 0    105.33544\n",
      "dtype: float64\n"
     ]
    }
   ],
   "source": [
    "print(f'Average of Malicious Packet Length : {pd.DataFrame(mal_pck_len).mean()}')"
   ]
  },
  {
   "cell_type": "code",
   "execution_count": 77,
   "metadata": {},
   "outputs": [
    {
     "data": {
      "text/plain": [
       "Text(0, 0.5, 'Density')"
      ]
     },
     "execution_count": 77,
     "metadata": {},
     "output_type": "execute_result"
    },
    {
     "data": {
      "image/png": "[encoded data removed]",
      "text/plain": [
       "<Figure size 1080x360 with 1 Axes>"
      ]
     },
     "metadata": {
      "needs_background": "light"
     },
     "output_type": "display_data"
    }
   ],
   "source": [
    "plt.figure(figsize = (15,5))\n",
    "\n",
    "plt.hist(ben_pck_len, bins = 10, alpha = 0.5, range = (0,1000), density = True, color = 'b', label = 'Benign_Packet_Length')\n",
    "plt.hist(mal_pck_len, bins = 10, alpha = 0.5, range = (0,1000), density = True, color = 'r', label = 'Malicious_Packet_Length')\n",
    "plt.xticks(np.arange(0,1000,100))\n",
    "\n",
    "plt.axvline(pd.DataFrame(ben_pck_len).mean().item(), color='b', linestyle='dashed', linewidth=2, label = 'Avg of Ben_Pck_Len')\n",
    "plt.axvline(pd.DataFrame(mal_pck_len).mean().item(), color='r', linestyle='dashed', linewidth=2, label = 'Avg of Mal_Pck_Len')\n",
    "\n",
    "plt.legend()\n",
    "\n",
    "plt.xlabel('Packet Length')\n",
    "plt.ylabel('Density')"
   ]
  },
  {
   "cell_type": "code",
   "execution_count": null,
   "metadata": {},
   "outputs": [],
   "source": []
  }
 ],
 "metadata": {
  "kernelspec": {
   "display_name": "Python 3",
   "language": "python",
   "name": "python3"
  },
  "language_info": {
   "codemirror_mode": {
    "name": "ipython",
    "version": 3
   },
   "file_extension": ".py",
   "mimetype": "text/x-python",
   "name": "python",
   "nbconvert_exporter": "python",
   "pygments_lexer": "ipython3",
   "version": "3.7.4"
  }
 },
 "nbformat": 4,
 "nbformat_minor": 4
}
